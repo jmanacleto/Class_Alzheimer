{
  "cells": [
    {
      "cell_type": "markdown",
      "id": "OLnxCpM4VVvT",
      "metadata": {
        "id": "OLnxCpM4VVvT"
      },
      "source": [
        "# Sobre o conjunto de dados\n",
        "Este conjunto de dados contém informações de saúde abrangentes para 2.149 pacientes, cada um identificado exclusivamente com IDs variando de 4751 a 6900. O conjunto de dados inclui detalhes demográficos, fatores de estilo de vida, histórico médico, medidas clínicas, avaliações cognitivas e funcionais, sintomas e um diagnóstico da doença de Alzheimer. Os dados são ideais para pesquisadores e cientistas de dados que buscam explorar fatores associados ao Alzheimer, desenvolver modelos preditivos e conduzir análises estatísticas.\n",
        "\n",
        "\n",
        "> # Índice\n",
        "\n",
        "- Informações do paciente\n",
        "\n",
        "- ID do paciente\n",
        "\n",
        "- Detalhes demográficos\n",
        "\n",
        "- Fatores de estilo de vida\n",
        "\n",
        "- Histórico médico\n",
        "\n",
        "- Medidas clínicas\n",
        "\n",
        "- Avaliações cognitivas e funcionais\n",
        "\n",
        "- Sintomas\n",
        "\n",
        "- Informações de diagnóstico\n",
        "\n",
        "- Informações confidenciais\n",
        "\n",
        "- Informações do paciente\n",
        "\n",
        "- ID do paciente\n",
        "\n",
        "- PatientID: Um identificador exclusivo atribuído a cada paciente (4751 a 6900).\n",
        "\n",
        "- Detalhes demográficos\n",
        "\n",
        "- Idade: A idade dos pacientes varia de 60 a 90 anos.\n",
        "\n",
        "- Gênero: Gênero dos pacientes, onde 0 representa Masculino e 1 representa Feminino.\n",
        "\n",
        "- Etnia: A etnia dos pacientes, codificada da seguinte forma:\n",
        "\n",
        "0: Caucasiano\n",
        "\n",
        "1: Afro-americano\n",
        "\n",
        "2: Asiático\n",
        "\n",
        "3: Outro\n",
        "\n",
        "- Nível de Educação: O nível de educação dos pacientes, codificado da seguinte forma:\n",
        "\n",
        "0: Nenhum\n",
        "\n",
        "1: Ensino Médio\n",
        "\n",
        "2: Bacharel\n",
        "\n",
        "3: Superior\n",
        "\n",
        "> # Fatores de Estilo de Vida\n",
        "\n",
        "- IMC: Índice de Massa Corporal dos pacientes, variando de 15 a 40.\n",
        "\n",
        "- Tabagismo: Status de tabagismo, onde 0 indica Não e 1 indica Sim.\n",
        "\n",
        "- AlcoholConsumption: Consumo semanal de álcool em unidades, variando de 0 a 20.\n",
        "\n",
        "- PhysicalActivity: Atividade física semanal em horas, variando de 0 a 10.\n",
        "\n",
        "- DietQuality: Pontuação de qualidade da dieta, variando de 0 a 10.\n",
        "\n",
        "- SleepQuality: Pontuação de qualidade do sono, variando de 4 a 10.\n",
        "\n",
        "> # Histórico médico\n",
        "\n",
        "- FamilyHistoryAlzheimers: Histórico familiar de doença de Alzheimer, onde 0 indica Não e 1 indica Sim.\n",
        "\n",
        "- CardiovascularDisease: Presença de doença cardiovascular, onde 0 indica Não e 1 indica Sim.\n",
        "\n",
        "- Diabetes: Presença de diabetes, onde 0 indica Não e 1 indica Sim.\n",
        "\n",
        "- Depression: Presença de depressão, onde 0 indica Não e 1 indica Sim.\n",
        "\n",
        "- HeadInjury: Histórico de traumatismo craniano, onde 0 indica Não e 1 indica Sim.\n",
        "\n",
        "- Hipertension: Presença de hipertensão, onde 0 indica Não e 1 indica Sim.\n",
        "\n",
        "> # Medidas clínicas\n",
        "\n",
        "- SistólicaBP: Pressão arterial sistólica, variando de 90 a 180 mmHg.\n",
        "\n",
        "- DiastólicaBP: Pressão arterial diastólica, variando de 60 a 120 mmHg.\n",
        "\n",
        "- ColesterolTotal: Níveis de colesterol total, variando de 150 a 300 mg/dL.\n",
        "\n",
        "- ColesterolLDL: Níveis de colesterol de lipoproteína de baixa densidade, variando de 50 a 200 mg/dL.\n",
        "\n",
        "- ColesterolHDL: Níveis de colesterol de lipoproteína de alta densidade, variando de 20 a 100 mg/dL.\n",
        "\n",
        "- ColesterolTriglicerídeos: Níveis de triglicerídeos, variando de 50 a 400 mg/dL.\n",
        "\n",
        "> # Avaliações cognitivas e funcionais\n",
        "\n",
        "- MMSE: Pontuação do Mini-Exame do Estado Mental, variando de 0 a 30. Pontuações mais baixas indicam comprometimento cognitivo.\n",
        "\n",
        "- Avaliação funcional: Pontuação de avaliação funcional, variando de 0 a 10. Pontuações mais baixas indicam maior comprometimento.\n",
        "\n",
        "- MemoryComplaints: Presença de queixas de memória, onde 0 indica Não e 1 indica Sim.\n",
        "\n",
        "- BehavioralProblems: Presença de problemas comportamentais, onde 0 indica Não e 1 indica Sim.\n",
        "\n",
        "- ADL: Pontuação de Atividades da Vida Diária, variando de 0 a 10. Pontuações mais baixas indicam maior comprometimento.\n",
        "\n",
        "> # Sintomas\n",
        "\n",
        "- Confusion: Presença de confusão, onde 0 indica Não e 1 indica Sim.\n",
        "\n",
        "- Disorientation: Presença de desorientação, onde 0 indica Não e 1 indica Sim.\n",
        "\n",
        "- PersonalityChanges: Presença de alterações de personalidade, onde 0 indica Não e 1 indica Sim.\n",
        "\n",
        "- DifficultyCompletingTasks: Presença de dificuldade em concluir tarefas, onde 0 indica Não e 1 indica Sim.\n",
        "\n",
        "- Forgetfulness: Presença de esquecimento, onde 0 indica Não e 1 indica Sim.\n",
        "Informações de diagnóstico\n",
        "\n",
        "- Diagnóstico: Status do diagnóstico para Doença de Alzheimer, onde 0 indica Não e 1 indica Sim.\n",
        "\n",
        "> # Informações confidenciais\n",
        "- DoctorInCharge: Esta coluna contém informações confidenciais sobre o médico responsável, com \"XXXConfid\" como valor para todos os pacientes."
      ]
    },
    {
      "cell_type": "code",
      "execution_count": 1,
      "id": "d0928175",
      "metadata": {
        "execution": {
          "iopub.execute_input": "2024-08-15T19:25:17.865287Z",
          "iopub.status.busy": "2024-08-15T19:25:17.864845Z",
          "iopub.status.idle": "2024-08-15T19:25:18.636732Z",
          "shell.execute_reply": "2024-08-15T19:25:18.635635Z"
        },
        "id": "d0928175",
        "papermill": {
          "duration": 0.796225,
          "end_time": "2024-08-15T19:25:18.639411",
          "exception": false,
          "start_time": "2024-08-15T19:25:17.843186",
          "status": "completed"
        },
        "tags": []
      },
      "outputs": [],
      "source": [
        "## importação\n",
        "import numpy as np\n",
        "import pandas as pd\n",
        "import seaborn as sns\n",
        "import matplotlib.pyplot as plt"
      ]
    },
    {
      "cell_type": "code",
      "execution_count": 2,
      "id": "7b69a87d",
      "metadata": {
        "execution": {
          "iopub.execute_input": "2024-08-15T19:25:18.682819Z",
          "iopub.status.busy": "2024-08-15T19:25:18.682334Z",
          "iopub.status.idle": "2024-08-15T19:25:18.719203Z",
          "shell.execute_reply": "2024-08-15T19:25:18.718162Z"
        },
        "id": "7b69a87d",
        "papermill": {
          "duration": 0.060907,
          "end_time": "2024-08-15T19:25:18.721593",
          "exception": false,
          "start_time": "2024-08-15T19:25:18.660686",
          "status": "completed"
        },
        "tags": []
      },
      "outputs": [],
      "source": [
        "df = pd.read_csv('C:/Users/João Miguel/OneDrive/Área de Trabalho/Code/Python Work/Alzheimer_Disease/DATA/alzheimers_disease_data.csv')"
      ]
    },
    {
      "cell_type": "code",
      "execution_count": 3,
      "id": "2bab4208",
      "metadata": {
        "execution": {
          "iopub.execute_input": "2024-08-15T19:25:18.765326Z",
          "iopub.status.busy": "2024-08-15T19:25:18.764549Z",
          "iopub.status.idle": "2024-08-15T19:25:18.798194Z",
          "shell.execute_reply": "2024-08-15T19:25:18.797330Z"
        },
        "id": "2bab4208",
        "papermill": {
          "duration": 0.056987,
          "end_time": "2024-08-15T19:25:18.800376",
          "exception": false,
          "start_time": "2024-08-15T19:25:18.743389",
          "status": "completed"
        },
        "tags": []
      },
      "outputs": [
        {
          "data": {
            "text/html": [
              "<div>\n",
              "<style scoped>\n",
              "    .dataframe tbody tr th:only-of-type {\n",
              "        vertical-align: middle;\n",
              "    }\n",
              "\n",
              "    .dataframe tbody tr th {\n",
              "        vertical-align: top;\n",
              "    }\n",
              "\n",
              "    .dataframe thead th {\n",
              "        text-align: right;\n",
              "    }\n",
              "</style>\n",
              "<table border=\"1\" class=\"dataframe\">\n",
              "  <thead>\n",
              "    <tr style=\"text-align: right;\">\n",
              "      <th></th>\n",
              "      <th>PatientID</th>\n",
              "      <th>Age</th>\n",
              "      <th>Gender</th>\n",
              "      <th>Ethnicity</th>\n",
              "      <th>EducationLevel</th>\n",
              "      <th>BMI</th>\n",
              "      <th>Smoking</th>\n",
              "      <th>AlcoholConsumption</th>\n",
              "      <th>PhysicalActivity</th>\n",
              "      <th>DietQuality</th>\n",
              "      <th>...</th>\n",
              "      <th>MemoryComplaints</th>\n",
              "      <th>BehavioralProblems</th>\n",
              "      <th>ADL</th>\n",
              "      <th>Confusion</th>\n",
              "      <th>Disorientation</th>\n",
              "      <th>PersonalityChanges</th>\n",
              "      <th>DifficultyCompletingTasks</th>\n",
              "      <th>Forgetfulness</th>\n",
              "      <th>Diagnosis</th>\n",
              "      <th>DoctorInCharge</th>\n",
              "    </tr>\n",
              "  </thead>\n",
              "  <tbody>\n",
              "    <tr>\n",
              "      <th>0</th>\n",
              "      <td>4751</td>\n",
              "      <td>73</td>\n",
              "      <td>0</td>\n",
              "      <td>0</td>\n",
              "      <td>2</td>\n",
              "      <td>22.927749</td>\n",
              "      <td>0</td>\n",
              "      <td>13.297218</td>\n",
              "      <td>6.327112</td>\n",
              "      <td>1.347214</td>\n",
              "      <td>...</td>\n",
              "      <td>0</td>\n",
              "      <td>0</td>\n",
              "      <td>1.725883</td>\n",
              "      <td>0</td>\n",
              "      <td>0</td>\n",
              "      <td>0</td>\n",
              "      <td>1</td>\n",
              "      <td>0</td>\n",
              "      <td>0</td>\n",
              "      <td>XXXConfid</td>\n",
              "    </tr>\n",
              "    <tr>\n",
              "      <th>1</th>\n",
              "      <td>4752</td>\n",
              "      <td>89</td>\n",
              "      <td>0</td>\n",
              "      <td>0</td>\n",
              "      <td>0</td>\n",
              "      <td>26.827681</td>\n",
              "      <td>0</td>\n",
              "      <td>4.542524</td>\n",
              "      <td>7.619885</td>\n",
              "      <td>0.518767</td>\n",
              "      <td>...</td>\n",
              "      <td>0</td>\n",
              "      <td>0</td>\n",
              "      <td>2.592424</td>\n",
              "      <td>0</td>\n",
              "      <td>0</td>\n",
              "      <td>0</td>\n",
              "      <td>0</td>\n",
              "      <td>1</td>\n",
              "      <td>0</td>\n",
              "      <td>XXXConfid</td>\n",
              "    </tr>\n",
              "    <tr>\n",
              "      <th>2</th>\n",
              "      <td>4753</td>\n",
              "      <td>73</td>\n",
              "      <td>0</td>\n",
              "      <td>3</td>\n",
              "      <td>1</td>\n",
              "      <td>17.795882</td>\n",
              "      <td>0</td>\n",
              "      <td>19.555085</td>\n",
              "      <td>7.844988</td>\n",
              "      <td>1.826335</td>\n",
              "      <td>...</td>\n",
              "      <td>0</td>\n",
              "      <td>0</td>\n",
              "      <td>7.119548</td>\n",
              "      <td>0</td>\n",
              "      <td>1</td>\n",
              "      <td>0</td>\n",
              "      <td>1</td>\n",
              "      <td>0</td>\n",
              "      <td>0</td>\n",
              "      <td>XXXConfid</td>\n",
              "    </tr>\n",
              "    <tr>\n",
              "      <th>3</th>\n",
              "      <td>4754</td>\n",
              "      <td>74</td>\n",
              "      <td>1</td>\n",
              "      <td>0</td>\n",
              "      <td>1</td>\n",
              "      <td>33.800817</td>\n",
              "      <td>1</td>\n",
              "      <td>12.209266</td>\n",
              "      <td>8.428001</td>\n",
              "      <td>7.435604</td>\n",
              "      <td>...</td>\n",
              "      <td>0</td>\n",
              "      <td>1</td>\n",
              "      <td>6.481226</td>\n",
              "      <td>0</td>\n",
              "      <td>0</td>\n",
              "      <td>0</td>\n",
              "      <td>0</td>\n",
              "      <td>0</td>\n",
              "      <td>0</td>\n",
              "      <td>XXXConfid</td>\n",
              "    </tr>\n",
              "    <tr>\n",
              "      <th>4</th>\n",
              "      <td>4755</td>\n",
              "      <td>89</td>\n",
              "      <td>0</td>\n",
              "      <td>0</td>\n",
              "      <td>0</td>\n",
              "      <td>20.716974</td>\n",
              "      <td>0</td>\n",
              "      <td>18.454356</td>\n",
              "      <td>6.310461</td>\n",
              "      <td>0.795498</td>\n",
              "      <td>...</td>\n",
              "      <td>0</td>\n",
              "      <td>0</td>\n",
              "      <td>0.014691</td>\n",
              "      <td>0</td>\n",
              "      <td>0</td>\n",
              "      <td>1</td>\n",
              "      <td>1</td>\n",
              "      <td>0</td>\n",
              "      <td>0</td>\n",
              "      <td>XXXConfid</td>\n",
              "    </tr>\n",
              "    <tr>\n",
              "      <th>...</th>\n",
              "      <td>...</td>\n",
              "      <td>...</td>\n",
              "      <td>...</td>\n",
              "      <td>...</td>\n",
              "      <td>...</td>\n",
              "      <td>...</td>\n",
              "      <td>...</td>\n",
              "      <td>...</td>\n",
              "      <td>...</td>\n",
              "      <td>...</td>\n",
              "      <td>...</td>\n",
              "      <td>...</td>\n",
              "      <td>...</td>\n",
              "      <td>...</td>\n",
              "      <td>...</td>\n",
              "      <td>...</td>\n",
              "      <td>...</td>\n",
              "      <td>...</td>\n",
              "      <td>...</td>\n",
              "      <td>...</td>\n",
              "      <td>...</td>\n",
              "    </tr>\n",
              "    <tr>\n",
              "      <th>2144</th>\n",
              "      <td>6895</td>\n",
              "      <td>61</td>\n",
              "      <td>0</td>\n",
              "      <td>0</td>\n",
              "      <td>1</td>\n",
              "      <td>39.121757</td>\n",
              "      <td>0</td>\n",
              "      <td>1.561126</td>\n",
              "      <td>4.049964</td>\n",
              "      <td>6.555306</td>\n",
              "      <td>...</td>\n",
              "      <td>0</td>\n",
              "      <td>0</td>\n",
              "      <td>4.492838</td>\n",
              "      <td>1</td>\n",
              "      <td>0</td>\n",
              "      <td>0</td>\n",
              "      <td>0</td>\n",
              "      <td>0</td>\n",
              "      <td>1</td>\n",
              "      <td>XXXConfid</td>\n",
              "    </tr>\n",
              "    <tr>\n",
              "      <th>2145</th>\n",
              "      <td>6896</td>\n",
              "      <td>75</td>\n",
              "      <td>0</td>\n",
              "      <td>0</td>\n",
              "      <td>2</td>\n",
              "      <td>17.857903</td>\n",
              "      <td>0</td>\n",
              "      <td>18.767261</td>\n",
              "      <td>1.360667</td>\n",
              "      <td>2.904662</td>\n",
              "      <td>...</td>\n",
              "      <td>0</td>\n",
              "      <td>1</td>\n",
              "      <td>9.204952</td>\n",
              "      <td>0</td>\n",
              "      <td>0</td>\n",
              "      <td>0</td>\n",
              "      <td>0</td>\n",
              "      <td>0</td>\n",
              "      <td>1</td>\n",
              "      <td>XXXConfid</td>\n",
              "    </tr>\n",
              "    <tr>\n",
              "      <th>2146</th>\n",
              "      <td>6897</td>\n",
              "      <td>77</td>\n",
              "      <td>0</td>\n",
              "      <td>0</td>\n",
              "      <td>1</td>\n",
              "      <td>15.476479</td>\n",
              "      <td>0</td>\n",
              "      <td>4.594670</td>\n",
              "      <td>9.886002</td>\n",
              "      <td>8.120025</td>\n",
              "      <td>...</td>\n",
              "      <td>0</td>\n",
              "      <td>0</td>\n",
              "      <td>5.036334</td>\n",
              "      <td>0</td>\n",
              "      <td>0</td>\n",
              "      <td>0</td>\n",
              "      <td>0</td>\n",
              "      <td>0</td>\n",
              "      <td>1</td>\n",
              "      <td>XXXConfid</td>\n",
              "    </tr>\n",
              "    <tr>\n",
              "      <th>2147</th>\n",
              "      <td>6898</td>\n",
              "      <td>78</td>\n",
              "      <td>1</td>\n",
              "      <td>3</td>\n",
              "      <td>1</td>\n",
              "      <td>15.299911</td>\n",
              "      <td>0</td>\n",
              "      <td>8.674505</td>\n",
              "      <td>6.354282</td>\n",
              "      <td>1.263427</td>\n",
              "      <td>...</td>\n",
              "      <td>0</td>\n",
              "      <td>0</td>\n",
              "      <td>3.785399</td>\n",
              "      <td>0</td>\n",
              "      <td>0</td>\n",
              "      <td>0</td>\n",
              "      <td>0</td>\n",
              "      <td>1</td>\n",
              "      <td>1</td>\n",
              "      <td>XXXConfid</td>\n",
              "    </tr>\n",
              "    <tr>\n",
              "      <th>2148</th>\n",
              "      <td>6899</td>\n",
              "      <td>72</td>\n",
              "      <td>0</td>\n",
              "      <td>0</td>\n",
              "      <td>2</td>\n",
              "      <td>33.289738</td>\n",
              "      <td>0</td>\n",
              "      <td>7.890703</td>\n",
              "      <td>6.570993</td>\n",
              "      <td>7.941404</td>\n",
              "      <td>...</td>\n",
              "      <td>0</td>\n",
              "      <td>1</td>\n",
              "      <td>8.327563</td>\n",
              "      <td>0</td>\n",
              "      <td>1</td>\n",
              "      <td>0</td>\n",
              "      <td>0</td>\n",
              "      <td>1</td>\n",
              "      <td>0</td>\n",
              "      <td>XXXConfid</td>\n",
              "    </tr>\n",
              "  </tbody>\n",
              "</table>\n",
              "<p>2149 rows × 35 columns</p>\n",
              "</div>"
            ],
            "text/plain": [
              "      PatientID  Age  Gender  Ethnicity  EducationLevel        BMI  Smoking  \\\n",
              "0          4751   73       0          0               2  22.927749        0   \n",
              "1          4752   89       0          0               0  26.827681        0   \n",
              "2          4753   73       0          3               1  17.795882        0   \n",
              "3          4754   74       1          0               1  33.800817        1   \n",
              "4          4755   89       0          0               0  20.716974        0   \n",
              "...         ...  ...     ...        ...             ...        ...      ...   \n",
              "2144       6895   61       0          0               1  39.121757        0   \n",
              "2145       6896   75       0          0               2  17.857903        0   \n",
              "2146       6897   77       0          0               1  15.476479        0   \n",
              "2147       6898   78       1          3               1  15.299911        0   \n",
              "2148       6899   72       0          0               2  33.289738        0   \n",
              "\n",
              "      AlcoholConsumption  PhysicalActivity  DietQuality  ...  \\\n",
              "0              13.297218          6.327112     1.347214  ...   \n",
              "1               4.542524          7.619885     0.518767  ...   \n",
              "2              19.555085          7.844988     1.826335  ...   \n",
              "3              12.209266          8.428001     7.435604  ...   \n",
              "4              18.454356          6.310461     0.795498  ...   \n",
              "...                  ...               ...          ...  ...   \n",
              "2144            1.561126          4.049964     6.555306  ...   \n",
              "2145           18.767261          1.360667     2.904662  ...   \n",
              "2146            4.594670          9.886002     8.120025  ...   \n",
              "2147            8.674505          6.354282     1.263427  ...   \n",
              "2148            7.890703          6.570993     7.941404  ...   \n",
              "\n",
              "      MemoryComplaints  BehavioralProblems       ADL  Confusion  \\\n",
              "0                    0                   0  1.725883          0   \n",
              "1                    0                   0  2.592424          0   \n",
              "2                    0                   0  7.119548          0   \n",
              "3                    0                   1  6.481226          0   \n",
              "4                    0                   0  0.014691          0   \n",
              "...                ...                 ...       ...        ...   \n",
              "2144                 0                   0  4.492838          1   \n",
              "2145                 0                   1  9.204952          0   \n",
              "2146                 0                   0  5.036334          0   \n",
              "2147                 0                   0  3.785399          0   \n",
              "2148                 0                   1  8.327563          0   \n",
              "\n",
              "      Disorientation  PersonalityChanges  DifficultyCompletingTasks  \\\n",
              "0                  0                   0                          1   \n",
              "1                  0                   0                          0   \n",
              "2                  1                   0                          1   \n",
              "3                  0                   0                          0   \n",
              "4                  0                   1                          1   \n",
              "...              ...                 ...                        ...   \n",
              "2144               0                   0                          0   \n",
              "2145               0                   0                          0   \n",
              "2146               0                   0                          0   \n",
              "2147               0                   0                          0   \n",
              "2148               1                   0                          0   \n",
              "\n",
              "      Forgetfulness  Diagnosis  DoctorInCharge  \n",
              "0                 0          0       XXXConfid  \n",
              "1                 1          0       XXXConfid  \n",
              "2                 0          0       XXXConfid  \n",
              "3                 0          0       XXXConfid  \n",
              "4                 0          0       XXXConfid  \n",
              "...             ...        ...             ...  \n",
              "2144              0          1       XXXConfid  \n",
              "2145              0          1       XXXConfid  \n",
              "2146              0          1       XXXConfid  \n",
              "2147              1          1       XXXConfid  \n",
              "2148              1          0       XXXConfid  \n",
              "\n",
              "[2149 rows x 35 columns]"
            ]
          },
          "execution_count": 3,
          "metadata": {},
          "output_type": "execute_result"
        }
      ],
      "source": [
        "df"
      ]
    },
    {
      "cell_type": "code",
      "execution_count": 4,
      "id": "b392c15b",
      "metadata": {
        "execution": {
          "iopub.execute_input": "2024-08-15T19:25:18.841727Z",
          "iopub.status.busy": "2024-08-15T19:25:18.840976Z",
          "iopub.status.idle": "2024-08-15T19:25:18.861012Z",
          "shell.execute_reply": "2024-08-15T19:25:18.860006Z"
        },
        "id": "b392c15b",
        "papermill": {
          "duration": 0.043176,
          "end_time": "2024-08-15T19:25:18.863730",
          "exception": false,
          "start_time": "2024-08-15T19:25:18.820554",
          "status": "completed"
        },
        "tags": []
      },
      "outputs": [
        {
          "name": "stdout",
          "output_type": "stream",
          "text": [
            "<class 'pandas.core.frame.DataFrame'>\n",
            "RangeIndex: 2149 entries, 0 to 2148\n",
            "Data columns (total 35 columns):\n",
            " #   Column                     Non-Null Count  Dtype  \n",
            "---  ------                     --------------  -----  \n",
            " 0   PatientID                  2149 non-null   int64  \n",
            " 1   Age                        2149 non-null   int64  \n",
            " 2   Gender                     2149 non-null   int64  \n",
            " 3   Ethnicity                  2149 non-null   int64  \n",
            " 4   EducationLevel             2149 non-null   int64  \n",
            " 5   BMI                        2149 non-null   float64\n",
            " 6   Smoking                    2149 non-null   int64  \n",
            " 7   AlcoholConsumption         2149 non-null   float64\n",
            " 8   PhysicalActivity           2149 non-null   float64\n",
            " 9   DietQuality                2149 non-null   float64\n",
            " 10  SleepQuality               2149 non-null   float64\n",
            " 11  FamilyHistoryAlzheimers    2149 non-null   int64  \n",
            " 12  CardiovascularDisease      2149 non-null   int64  \n",
            " 13  Diabetes                   2149 non-null   int64  \n",
            " 14  Depression                 2149 non-null   int64  \n",
            " 15  HeadInjury                 2149 non-null   int64  \n",
            " 16  Hypertension               2149 non-null   int64  \n",
            " 17  SystolicBP                 2149 non-null   int64  \n",
            " 18  DiastolicBP                2149 non-null   int64  \n",
            " 19  CholesterolTotal           2149 non-null   float64\n",
            " 20  CholesterolLDL             2149 non-null   float64\n",
            " 21  CholesterolHDL             2149 non-null   float64\n",
            " 22  CholesterolTriglycerides   2149 non-null   float64\n",
            " 23  MMSE                       2149 non-null   float64\n",
            " 24  FunctionalAssessment       2149 non-null   float64\n",
            " 25  MemoryComplaints           2149 non-null   int64  \n",
            " 26  BehavioralProblems         2149 non-null   int64  \n",
            " 27  ADL                        2149 non-null   float64\n",
            " 28  Confusion                  2149 non-null   int64  \n",
            " 29  Disorientation             2149 non-null   int64  \n",
            " 30  PersonalityChanges         2149 non-null   int64  \n",
            " 31  DifficultyCompletingTasks  2149 non-null   int64  \n",
            " 32  Forgetfulness              2149 non-null   int64  \n",
            " 33  Diagnosis                  2149 non-null   int64  \n",
            " 34  DoctorInCharge             2149 non-null   object \n",
            "dtypes: float64(12), int64(22), object(1)\n",
            "memory usage: 587.7+ KB\n"
          ]
        }
      ],
      "source": [
        "df.info()"
      ]
    },
    {
      "cell_type": "markdown",
      "id": "439a5b49",
      "metadata": {
        "id": "439a5b49",
        "papermill": {
          "duration": 0.01952,
          "end_time": "2024-08-15T19:25:18.903378",
          "exception": false,
          "start_time": "2024-08-15T19:25:18.883858",
          "status": "completed"
        },
        "tags": []
      },
      "source": [
        "**NENHUM VALOR NULO**"
      ]
    },
    {
      "cell_type": "code",
      "execution_count": 5,
      "id": "d9555f5e",
      "metadata": {
        "execution": {
          "iopub.execute_input": "2024-08-15T19:25:18.944696Z",
          "iopub.status.busy": "2024-08-15T19:25:18.944124Z",
          "iopub.status.idle": "2024-08-15T19:25:18.956493Z",
          "shell.execute_reply": "2024-08-15T19:25:18.955514Z"
        },
        "id": "d9555f5e",
        "papermill": {
          "duration": 0.03504,
          "end_time": "2024-08-15T19:25:18.958586",
          "exception": false,
          "start_time": "2024-08-15T19:25:18.923546",
          "status": "completed"
        },
        "tags": []
      },
      "outputs": [
        {
          "data": {
            "text/plain": [
              "0"
            ]
          },
          "execution_count": 5,
          "metadata": {},
          "output_type": "execute_result"
        }
      ],
      "source": [
        "df.duplicated().sum()"
      ]
    },
    {
      "cell_type": "markdown",
      "id": "d83cd570",
      "metadata": {
        "id": "d83cd570",
        "papermill": {
          "duration": 0.01953,
          "end_time": "2024-08-15T19:25:18.999374",
          "exception": false,
          "start_time": "2024-08-15T19:25:18.979844",
          "status": "completed"
        },
        "tags": []
      },
      "source": [
        "**SEM VALORES DUPLICADOS**"
      ]
    },
    {
      "cell_type": "code",
      "execution_count": 6,
      "id": "edd9d8ef",
      "metadata": {
        "execution": {
          "iopub.execute_input": "2024-08-15T19:25:19.041720Z",
          "iopub.status.busy": "2024-08-15T19:25:19.040881Z",
          "iopub.status.idle": "2024-08-15T19:25:19.046748Z",
          "shell.execute_reply": "2024-08-15T19:25:19.045815Z"
        },
        "id": "edd9d8ef",
        "papermill": {
          "duration": 0.029774,
          "end_time": "2024-08-15T19:25:19.048991",
          "exception": false,
          "start_time": "2024-08-15T19:25:19.019217",
          "status": "completed"
        },
        "tags": []
      },
      "outputs": [],
      "source": [
        "df.drop(columns = {'DoctorInCharge'}, inplace = True)"
      ]
    },
    {
      "cell_type": "code",
      "execution_count": 7,
      "id": "50a64cd8",
      "metadata": {
        "execution": {
          "iopub.execute_input": "2024-08-15T19:25:19.089802Z",
          "iopub.status.busy": "2024-08-15T19:25:19.089463Z",
          "iopub.status.idle": "2024-08-15T19:25:19.094940Z",
          "shell.execute_reply": "2024-08-15T19:25:19.094164Z"
        },
        "id": "50a64cd8",
        "papermill": {
          "duration": 0.028209,
          "end_time": "2024-08-15T19:25:19.096780",
          "exception": false,
          "start_time": "2024-08-15T19:25:19.068571",
          "status": "completed"
        },
        "tags": []
      },
      "outputs": [],
      "source": [
        "df.drop(columns = {'PatientID'},inplace = True)"
      ]
    },
    {
      "cell_type": "code",
      "execution_count": 8,
      "id": "fde5c7e1",
      "metadata": {
        "execution": {
          "iopub.execute_input": "2024-08-15T19:25:19.138827Z",
          "iopub.status.busy": "2024-08-15T19:25:19.138447Z",
          "iopub.status.idle": "2024-08-15T19:25:19.146478Z",
          "shell.execute_reply": "2024-08-15T19:25:19.145599Z"
        },
        "id": "fde5c7e1",
        "papermill": {
          "duration": 0.031657,
          "end_time": "2024-08-15T19:25:19.148594",
          "exception": false,
          "start_time": "2024-08-15T19:25:19.116937",
          "status": "completed"
        },
        "tags": []
      },
      "outputs": [
        {
          "data": {
            "text/plain": [
              "Diagnosis\n",
              "0    1389\n",
              "1     760\n",
              "Name: Diagnosis, dtype: int64"
            ]
          },
          "execution_count": 8,
          "metadata": {},
          "output_type": "execute_result"
        }
      ],
      "source": [
        "df.groupby('Diagnosis')['Diagnosis'].count()"
      ]
    },
    {
      "cell_type": "markdown",
      "id": "b740d217",
      "metadata": {
        "id": "b740d217",
        "papermill": {
          "duration": 0.021755,
          "end_time": "2024-08-15T19:25:19.191933",
          "exception": false,
          "start_time": "2024-08-15T19:25:19.170178",
          "status": "completed"
        },
        "tags": []
      },
      "source": [
        "Observamos que os dados não estão balanceados, pois há mais casos negativos."
      ]
    },
    {
      "cell_type": "code",
      "execution_count": 9,
      "id": "bef620cf",
      "metadata": {
        "execution": {
          "iopub.execute_input": "2024-08-15T19:25:19.234156Z",
          "iopub.status.busy": "2024-08-15T19:25:19.233363Z",
          "iopub.status.idle": "2024-08-15T19:25:19.241890Z",
          "shell.execute_reply": "2024-08-15T19:25:19.241020Z"
        },
        "id": "bef620cf",
        "papermill": {
          "duration": 0.031628,
          "end_time": "2024-08-15T19:25:19.243812",
          "exception": false,
          "start_time": "2024-08-15T19:25:19.212184",
          "status": "completed"
        },
        "tags": []
      },
      "outputs": [
        {
          "data": {
            "text/plain": [
              "array([73, 89, 74, 86, 68, 75, 72, 87, 78, 84, 64, 69, 63, 65, 82, 77, 71,\n",
              "       83, 79, 67, 66, 70, 85, 60, 88, 62, 81, 61, 80, 90, 76],\n",
              "      dtype=int64)"
            ]
          },
          "execution_count": 9,
          "metadata": {},
          "output_type": "execute_result"
        }
      ],
      "source": [
        "df['Age'].unique()"
      ]
    },
    {
      "cell_type": "code",
      "execution_count": 10,
      "id": "ece8a0d6",
      "metadata": {
        "execution": {
          "iopub.execute_input": "2024-08-15T19:25:20.491341Z",
          "iopub.status.busy": "2024-08-15T19:25:20.490598Z",
          "iopub.status.idle": "2024-08-15T19:25:20.968373Z",
          "shell.execute_reply": "2024-08-15T19:25:20.967391Z"
        },
        "id": "ece8a0d6",
        "papermill": {
          "duration": 0.502241,
          "end_time": "2024-08-15T19:25:20.970939",
          "exception": false,
          "start_time": "2024-08-15T19:25:20.468698",
          "status": "completed"
        },
        "tags": []
      },
      "outputs": [
        {
          "data": {
            "image/png": "[encoded data removed]",
            "text/plain": [
              "<Figure size 1000x600 with 1 Axes>"
            ]
          },
          "metadata": {},
          "output_type": "display_data"
        }
      ],
      "source": [
        "## Efeito da idade na classificação do alvo\n",
        "plt.figure(figsize=(10, 6))\n",
        "sns.histplot(data=df, x='Age', hue='Diagnosis', multiple='stack', bins=6, palette='Set1')\n",
        "plt.title('Histograma de idade por classificação de alvo')\n",
        "plt.xlabel('Idade')\n",
        "plt.ylabel('Contagem')\n",
        "plt.show()"
      ]
    },
    {
      "cell_type": "markdown",
      "id": "8179b28c",
      "metadata": {
        "id": "8179b28c",
        "papermill": {
          "duration": 0.021312,
          "end_time": "2024-08-15T19:25:21.016242",
          "exception": false,
          "start_time": "2024-08-15T19:25:20.994930",
          "status": "completed"
        },
        "tags": []
      },
      "source": [
        "Não obtendo muitas evidências, vamos obter a porcentagem de diagnósticos positivos."
      ]
    },
    {
      "cell_type": "code",
      "execution_count": 11,
      "id": "c4787e3e",
      "metadata": {
        "execution": {
          "iopub.execute_input": "2024-08-15T19:25:21.061365Z",
          "iopub.status.busy": "2024-08-15T19:25:21.060456Z",
          "iopub.status.idle": "2024-08-15T19:25:21.325400Z",
          "shell.execute_reply": "2024-08-15T19:25:21.324332Z"
        },
        "id": "c4787e3e",
        "papermill": {
          "duration": 0.290751,
          "end_time": "2024-08-15T19:25:21.327927",
          "exception": false,
          "start_time": "2024-08-15T19:25:21.037176",
          "status": "completed"
        },
        "tags": []
      },
      "outputs": [
        {
          "name": "stderr",
          "output_type": "stream",
          "text": [
            "C:\\Users\\João Miguel\\AppData\\Local\\Temp\\ipykernel_5036\\1852352314.py:4: FutureWarning: The default of observed=False is deprecated and will be changed to True in a future version of pandas. Pass observed=False to retain current behavior or observed=True to adopt the future default and silence this warning.\n",
            "  percentage_df = df.groupby('Age_bin')['Diagnosis'].mean().reset_index()\n",
            "C:\\Users\\João Miguel\\AppData\\Local\\Temp\\ipykernel_5036\\1852352314.py:9: FutureWarning: \n",
            "\n",
            "Passing `palette` without assigning `hue` is deprecated and will be removed in v0.14.0. Assign the `x` variable to `hue` and set `legend=False` for the same effect.\n",
            "\n",
            "  sns.barplot(data=percentage_df, x='Age_bin', y='Diagnosis', palette='Set1')\n"
          ]
        },
        {
          "data": {
            "image/png": "[encoded data removed]",
            "text/plain": [
              "<Figure size 1000x600 with 1 Axes>"
            ]
          },
          "metadata": {},
          "output_type": "display_data"
        }
      ],
      "source": [
        "bins = 6\n",
        "df['Age_bin'] = pd.cut(df['Age'], bins=bins)\n",
        "\n",
        "percentage_df = df.groupby('Age_bin')['Diagnosis'].mean().reset_index()\n",
        "percentage_df['Diagnosis'] *= 100  # Convert to percentage\n",
        "\n",
        "# Grafico de porcentagenm de pacientes diagnosticados por faixa etária\n",
        "plt.figure(figsize=(10, 6))\n",
        "sns.barplot(data=percentage_df, x='Age_bin', y='Diagnosis', palette='Set1')\n",
        "plt.title('Porcentagem de pacientes diagnosticados por faixa etária')\n",
        "plt.xlabel('Idade')\n",
        "plt.ylabel('Porcentagem de pacientes diagnosticados')\n",
        "plt.show()"
      ]
    },
    {
      "cell_type": "markdown",
      "id": "08ae55d8",
      "metadata": {
        "id": "08ae55d8",
        "papermill": {
          "duration": 0.022625,
          "end_time": "2024-08-15T19:25:21.374819",
          "exception": false,
          "start_time": "2024-08-15T19:25:21.352194",
          "status": "completed"
        },
        "tags": []
      },
      "source": [
        "De acordo com pesquisas na internet, as chances de diagnóstico aumentam com a idade após os 65 anos. No entanto, isso não é proeminente nos dados fornecidos."
      ]
    },
    {
      "cell_type": "code",
      "execution_count": 12,
      "id": "91ba1cf0",
      "metadata": {
        "execution": {
          "iopub.execute_input": "2024-08-15T19:25:21.420972Z",
          "iopub.status.busy": "2024-08-15T19:25:21.420043Z",
          "iopub.status.idle": "2024-08-15T19:25:21.428214Z",
          "shell.execute_reply": "2024-08-15T19:25:21.427332Z"
        },
        "id": "91ba1cf0",
        "papermill": {
          "duration": 0.034082,
          "end_time": "2024-08-15T19:25:21.430384",
          "exception": false,
          "start_time": "2024-08-15T19:25:21.396302",
          "status": "completed"
        },
        "tags": []
      },
      "outputs": [],
      "source": [
        "## Como o gênero afeta o diagnóstico\n",
        "\n",
        "gender_df = df.groupby('Gender')['Diagnosis'].mean().reset_index()\n",
        "gender_df['Diagnosis']*= 100\n",
        "gender_df['Gender'] = gender_df['Gender'].apply(lambda x : 'Male' if x == 0 else 'Female' )"
      ]
    },
    {
      "cell_type": "code",
      "execution_count": 13,
      "id": "1a8f6888",
      "metadata": {
        "execution": {
          "iopub.execute_input": "2024-08-15T19:25:21.524892Z",
          "iopub.status.busy": "2024-08-15T19:25:21.524514Z",
          "iopub.status.idle": "2024-08-15T19:25:21.772075Z",
          "shell.execute_reply": "2024-08-15T19:25:21.771023Z"
        },
        "id": "1a8f6888",
        "papermill": {
          "duration": 0.322001,
          "end_time": "2024-08-15T19:25:21.774449",
          "exception": false,
          "start_time": "2024-08-15T19:25:21.452448",
          "status": "completed"
        },
        "tags": []
      },
      "outputs": [
        {
          "name": "stderr",
          "output_type": "stream",
          "text": [
            "C:\\Users\\João Miguel\\AppData\\Local\\Temp\\ipykernel_5036\\3493145526.py:2: FutureWarning: \n",
            "\n",
            "Passing `palette` without assigning `hue` is deprecated and will be removed in v0.14.0. Assign the `x` variable to `hue` and set `legend=False` for the same effect.\n",
            "\n",
            "  sns.barplot(data=gender_df, x='Gender', y='Diagnosis', palette='Set1')\n"
          ]
        },
        {
          "data": {
            "image/png": "[encoded data removed]",
            "text/plain": [
              "<Figure size 800x600 with 1 Axes>"
            ]
          },
          "metadata": {},
          "output_type": "display_data"
        }
      ],
      "source": [
        "plt.figure(figsize=(8, 6))\n",
        "sns.barplot(data=gender_df, x='Gender', y='Diagnosis', palette='Set1')\n",
        "plt.title('Porcentagem de pacientes diagnosticados por gênero')\n",
        "plt.xlabel('Genero')\n",
        "plt.ylabel('Porcentagem de pacientes diagnosticados')\n",
        "plt.show()"
      ]
    },
    {
      "cell_type": "markdown",
      "id": "8ee8fa79",
      "metadata": {
        "id": "8ee8fa79",
        "papermill": {
          "duration": 0.023635,
          "end_time": "2024-08-15T19:25:21.822428",
          "exception": false,
          "start_time": "2024-08-15T19:25:21.798793",
          "status": "completed"
        },
        "tags": []
      },
      "source": [
        "O gênero do paciente não é uma característica forte para classificar o diagnóstico.\n"
      ]
    },
    {
      "cell_type": "code",
      "execution_count": 16,
      "id": "056319c4",
      "metadata": {
        "execution": {
          "iopub.execute_input": "2024-08-15T19:25:21.870174Z",
          "iopub.status.busy": "2024-08-15T19:25:21.869750Z",
          "iopub.status.idle": "2024-08-15T19:25:21.878815Z",
          "shell.execute_reply": "2024-08-15T19:25:21.877842Z"
        },
        "id": "056319c4",
        "papermill": {
          "duration": 0.035497,
          "end_time": "2024-08-15T19:25:21.881233",
          "exception": false,
          "start_time": "2024-08-15T19:25:21.845736",
          "status": "completed"
        },
        "tags": []
      },
      "outputs": [],
      "source": [
        "## Efeito da Etnia\n",
        "ethnicity_df = df.groupby('Ethnicity')['Diagnosis'].mean().reset_index()\n",
        "ethnicity_df['Diagnosis']*= 100\n",
        "\n",
        "eth_dict = {0 : 'Caucasiano', 1 : 'afro-americano', 2 : 'Asiatico' , 3 : 'Outro'}\n",
        "\n",
        "ethnicity_df['Ethnicity'] = ethnicity_df['Ethnicity'].apply(lambda x : eth_dict[x])"
      ]
    },
    {
      "cell_type": "code",
      "execution_count": 17,
      "id": "2a054bda",
      "metadata": {
        "execution": {
          "iopub.execute_input": "2024-08-15T19:25:21.934128Z",
          "iopub.status.busy": "2024-08-15T19:25:21.933230Z",
          "iopub.status.idle": "2024-08-15T19:25:22.180880Z",
          "shell.execute_reply": "2024-08-15T19:25:22.179843Z"
        },
        "id": "2a054bda",
        "papermill": {
          "duration": 0.276444,
          "end_time": "2024-08-15T19:25:22.183206",
          "exception": false,
          "start_time": "2024-08-15T19:25:21.906762",
          "status": "completed"
        },
        "tags": []
      },
      "outputs": [
        {
          "name": "stderr",
          "output_type": "stream",
          "text": [
            "C:\\Users\\João Miguel\\AppData\\Local\\Temp\\ipykernel_5036\\1576278999.py:2: FutureWarning: \n",
            "\n",
            "Passing `palette` without assigning `hue` is deprecated and will be removed in v0.14.0. Assign the `x` variable to `hue` and set `legend=False` for the same effect.\n",
            "\n",
            "  sns.barplot(data=ethnicity_df, x='Ethnicity', y='Diagnosis', palette='Set1')\n"
          ]
        },
        {
          "data": {
            "image/png": "[encoded data removed]",
            "text/plain": [
              "<Figure size 800x600 with 1 Axes>"
            ]
          },
          "metadata": {},
          "output_type": "display_data"
        }
      ],
      "source": [
        "plt.figure(figsize=(8, 6))\n",
        "sns.barplot(data=ethnicity_df, x='Ethnicity', y='Diagnosis', palette='Set1')\n",
        "plt.xlabel('Genero')\n",
        "plt.ylabel('Porcentagem de diagnostico por paciênte')\n",
        "plt.show()"
      ]
    },
    {
      "cell_type": "markdown",
      "id": "c5f4639a",
      "metadata": {
        "id": "c5f4639a",
        "papermill": {
          "duration": 0.024258,
          "end_time": "2024-08-15T19:25:22.232470",
          "exception": false,
          "start_time": "2024-08-15T19:25:22.208212",
          "status": "completed"
        },
        "tags": []
      },
      "source": [
        "Proeminente em asiáticos e caucasianos. Talvez dividir os dados codificando asiáticos e caucasianos como 1 e o restante como 0."
      ]
    },
    {
      "cell_type": "code",
      "execution_count": 18,
      "id": "95e55fa6",
      "metadata": {
        "execution": {
          "iopub.execute_input": "2024-08-15T19:25:22.281561Z",
          "iopub.status.busy": "2024-08-15T19:25:22.281195Z",
          "iopub.status.idle": "2024-08-15T19:25:22.287748Z",
          "shell.execute_reply": "2024-08-15T19:25:22.286903Z"
        },
        "id": "95e55fa6",
        "papermill": {
          "duration": 0.034673,
          "end_time": "2024-08-15T19:25:22.290178",
          "exception": false,
          "start_time": "2024-08-15T19:25:22.255505",
          "status": "completed"
        },
        "tags": []
      },
      "outputs": [
        {
          "data": {
            "text/plain": [
              "array([2, 0, 1, 3], dtype=int64)"
            ]
          },
          "execution_count": 18,
          "metadata": {},
          "output_type": "execute_result"
        }
      ],
      "source": [
        "df['EducationLevel'].unique()"
      ]
    },
    {
      "cell_type": "code",
      "execution_count": 19,
      "id": "bca6e100",
      "metadata": {
        "execution": {
          "iopub.execute_input": "2024-08-15T19:25:22.340369Z",
          "iopub.status.busy": "2024-08-15T19:25:22.339516Z",
          "iopub.status.idle": "2024-08-15T19:25:22.347784Z",
          "shell.execute_reply": "2024-08-15T19:25:22.347073Z"
        },
        "id": "bca6e100",
        "papermill": {
          "duration": 0.035507,
          "end_time": "2024-08-15T19:25:22.350001",
          "exception": false,
          "start_time": "2024-08-15T19:25:22.314494",
          "status": "completed"
        },
        "tags": []
      },
      "outputs": [],
      "source": [
        "## Nivel de educação\n",
        "\n",
        "edu_df = df.groupby('EducationLevel')['Diagnosis'].mean().reset_index()\n",
        "edu_df['Diagnosis'] *= 100\n",
        "\n",
        "edu_dict = {0 :'Nenhum' , 1: 'Ensino médio' , 2: 'Bacharel' , 3: 'Superior'}\n",
        "\n",
        "edu_df['EducationLevel'] = edu_df['EducationLevel'].apply(lambda x : edu_dict[x])"
      ]
    },
    {
      "cell_type": "code",
      "execution_count": 20,
      "id": "7daeac04",
      "metadata": {
        "execution": {
          "iopub.execute_input": "2024-08-15T19:25:22.403586Z",
          "iopub.status.busy": "2024-08-15T19:25:22.403183Z",
          "iopub.status.idle": "2024-08-15T19:25:22.587946Z",
          "shell.execute_reply": "2024-08-15T19:25:22.587055Z"
        },
        "id": "7daeac04",
        "papermill": {
          "duration": 0.215654,
          "end_time": "2024-08-15T19:25:22.590542",
          "exception": false,
          "start_time": "2024-08-15T19:25:22.374888",
          "status": "completed"
        },
        "tags": []
      },
      "outputs": [
        {
          "name": "stderr",
          "output_type": "stream",
          "text": [
            "C:\\Users\\João Miguel\\AppData\\Local\\Temp\\ipykernel_5036\\339954294.py:2: FutureWarning: \n",
            "\n",
            "Passing `palette` without assigning `hue` is deprecated and will be removed in v0.14.0. Assign the `x` variable to `hue` and set `legend=False` for the same effect.\n",
            "\n",
            "  sns.barplot(data=edu_df, x='EducationLevel', y='Diagnosis', palette='Set1')\n"
          ]
        },
        {
          "data": {
            "image/png": "[encoded data removed]",
            "text/plain": [
              "<Figure size 800x600 with 1 Axes>"
            ]
          },
          "metadata": {},
          "output_type": "display_data"
        }
      ],
      "source": [
        "plt.figure(figsize=(8, 6))\n",
        "sns.barplot(data=edu_df, x='EducationLevel', y='Diagnosis', palette='Set1')\n",
        "plt.xlabel('Nivel de educação')\n",
        "plt.ylabel('Porcentagem de diagnostico por paciênte')\n",
        "\n",
        "plt.show()"
      ]
    },
    {
      "cell_type": "markdown",
      "id": "76064847",
      "metadata": {
        "id": "76064847",
        "papermill": {
          "duration": 0.023305,
          "end_time": "2024-08-15T19:25:22.638028",
          "exception": false,
          "start_time": "2024-08-15T19:25:22.614723",
          "status": "completed"
        },
        "tags": []
      },
      "source": [
        "As chances de diagnóstico diminuem à medida que o nível de educação aumenta. Isso pode ser usado como uma variável categórica ordinal ou talvez dividido entre ensino médio e bacharelado."
      ]
    },
    {
      "cell_type": "code",
      "execution_count": 21,
      "id": "8a2491e6",
      "metadata": {
        "execution": {
          "iopub.execute_input": "2024-08-15T19:25:22.689498Z",
          "iopub.status.busy": "2024-08-15T19:25:22.689112Z",
          "iopub.status.idle": "2024-08-15T19:25:22.697255Z",
          "shell.execute_reply": "2024-08-15T19:25:22.696238Z"
        },
        "id": "8a2491e6",
        "papermill": {
          "duration": 0.036826,
          "end_time": "2024-08-15T19:25:22.699571",
          "exception": false,
          "start_time": "2024-08-15T19:25:22.662745",
          "status": "completed"
        },
        "tags": []
      },
      "outputs": [],
      "source": [
        "#Efeito BMI\n",
        "\n",
        "bmi_bins = [0, 18.5, 24.9, 29.9, float('inf')]\n",
        "bmi_labels = ['Underweight', 'Healthy', 'Overweight', 'Obese']\n",
        "\n",
        "df['BMI_category'] = pd.cut(df['BMI'], bins=bmi_bins, labels=bmi_labels, right=False)\n",
        "\n"
      ]
    },
    {
      "cell_type": "code",
      "execution_count": 22,
      "id": "496fafa8",
      "metadata": {
        "execution": {
          "iopub.execute_input": "2024-08-15T19:25:22.751396Z",
          "iopub.status.busy": "2024-08-15T19:25:22.750775Z",
          "iopub.status.idle": "2024-08-15T19:25:22.758703Z",
          "shell.execute_reply": "2024-08-15T19:25:22.757723Z"
        },
        "id": "496fafa8",
        "papermill": {
          "duration": 0.036478,
          "end_time": "2024-08-15T19:25:22.761044",
          "exception": false,
          "start_time": "2024-08-15T19:25:22.724566",
          "status": "completed"
        },
        "tags": []
      },
      "outputs": [
        {
          "name": "stderr",
          "output_type": "stream",
          "text": [
            "C:\\Users\\João Miguel\\AppData\\Local\\Temp\\ipykernel_5036\\3757668094.py:1: FutureWarning: The default of observed=False is deprecated and will be changed to True in a future version of pandas. Pass observed=False to retain current behavior or observed=True to adopt the future default and silence this warning.\n",
            "  bmi_df = df.groupby('BMI_category')['Diagnosis'].mean().reset_index()\n"
          ]
        }
      ],
      "source": [
        "bmi_df = df.groupby('BMI_category')['Diagnosis'].mean().reset_index()\n",
        "bmi_df['Diagnosis']*= 100\n"
      ]
    },
    {
      "cell_type": "code",
      "execution_count": 24,
      "id": "f72f5cd8",
      "metadata": {
        "execution": {
          "iopub.execute_input": "2024-08-15T19:25:22.813342Z",
          "iopub.status.busy": "2024-08-15T19:25:22.812173Z",
          "iopub.status.idle": "2024-08-15T19:25:22.992236Z",
          "shell.execute_reply": "2024-08-15T19:25:22.991261Z"
        },
        "id": "f72f5cd8",
        "papermill": {
          "duration": 0.208244,
          "end_time": "2024-08-15T19:25:22.994298",
          "exception": false,
          "start_time": "2024-08-15T19:25:22.786054",
          "status": "completed"
        },
        "tags": []
      },
      "outputs": [
        {
          "name": "stderr",
          "output_type": "stream",
          "text": [
            "C:\\Users\\João Miguel\\AppData\\Local\\Temp\\ipykernel_5036\\52553173.py:2: FutureWarning: \n",
            "\n",
            "Passing `palette` without assigning `hue` is deprecated and will be removed in v0.14.0. Assign the `x` variable to `hue` and set `legend=False` for the same effect.\n",
            "\n",
            "  sns.barplot(data=bmi_df, x='BMI_category', y='Diagnosis', palette='Set1')\n"
          ]
        },
        {
          "data": {
            "image/png": "[encoded data removed]",
            "text/plain": [
              "<Figure size 800x600 with 1 Axes>"
            ]
          },
          "metadata": {},
          "output_type": "display_data"
        }
      ],
      "source": [
        "plt.figure(figsize=(8, 6))\n",
        "sns.barplot(data=bmi_df, x='BMI_category', y='Diagnosis', palette='Set1')\n",
        "plt.xlabel('Categoria BMI')\n",
        "plt.ylabel('Porcentagem de diagnostico por paciênte')\n",
        "\n",
        "plt.show()"
      ]
    },
    {
      "cell_type": "markdown",
      "id": "272ac826",
      "metadata": {
        "id": "272ac826",
        "papermill": {
          "duration": 0.026463,
          "end_time": "2024-08-15T19:25:23.047109",
          "exception": false,
          "start_time": "2024-08-15T19:25:23.020646",
          "status": "completed"
        },
        "tags": []
      },
      "source": [
        "Não há relação do IMC com o diagnóstico. Portanto, essa característica pode não ser útil para a previsão."
      ]
    },
    {
      "cell_type": "code",
      "execution_count": 25,
      "id": "eed22bd1",
      "metadata": {
        "execution": {
          "iopub.execute_input": "2024-08-15T19:25:23.101272Z",
          "iopub.status.busy": "2024-08-15T19:25:23.100459Z",
          "iopub.status.idle": "2024-08-15T19:25:23.107693Z",
          "shell.execute_reply": "2024-08-15T19:25:23.106734Z"
        },
        "id": "eed22bd1",
        "papermill": {
          "duration": 0.036931,
          "end_time": "2024-08-15T19:25:23.110072",
          "exception": false,
          "start_time": "2024-08-15T19:25:23.073141",
          "status": "completed"
        },
        "tags": []
      },
      "outputs": [],
      "source": [
        "## Efeito do Tabagismo\n",
        "\n",
        "smoking_df = df.groupby('Smoking')['Diagnosis'].mean().reset_index()\n",
        "smoking_df['Diagnosis']*= 100"
      ]
    },
    {
      "cell_type": "code",
      "execution_count": 27,
      "id": "d10aec91",
      "metadata": {
        "execution": {
          "iopub.execute_input": "2024-08-15T19:25:23.164478Z",
          "iopub.status.busy": "2024-08-15T19:25:23.163788Z",
          "iopub.status.idle": "2024-08-15T19:25:23.506208Z",
          "shell.execute_reply": "2024-08-15T19:25:23.505135Z"
        },
        "id": "d10aec91",
        "papermill": {
          "duration": 0.37205,
          "end_time": "2024-08-15T19:25:23.508466",
          "exception": false,
          "start_time": "2024-08-15T19:25:23.136416",
          "status": "completed"
        },
        "tags": []
      },
      "outputs": [
        {
          "data": {
            "image/png": "[encoded data removed]",
            "text/plain": [
              "<Figure size 1000x600 with 1 Axes>"
            ]
          },
          "metadata": {},
          "output_type": "display_data"
        }
      ],
      "source": [
        "plt.figure(figsize=(10, 6))\n",
        "sns.histplot(data=df, x='Smoking', hue='Diagnosis', multiple='stack', bins=6, palette='Set1')\n",
        "\n",
        "plt.xlabel('Fumante')\n",
        "plt.ylabel('Contagem')\n",
        "plt.show()"
      ]
    },
    {
      "cell_type": "code",
      "execution_count": 29,
      "id": "54085ea5",
      "metadata": {
        "execution": {
          "iopub.execute_input": "2024-08-15T19:25:23.563789Z",
          "iopub.status.busy": "2024-08-15T19:25:23.562971Z",
          "iopub.status.idle": "2024-08-15T19:25:23.772245Z",
          "shell.execute_reply": "2024-08-15T19:25:23.771385Z"
        },
        "id": "54085ea5",
        "papermill": {
          "duration": 0.239396,
          "end_time": "2024-08-15T19:25:23.774765",
          "exception": false,
          "start_time": "2024-08-15T19:25:23.535369",
          "status": "completed"
        },
        "tags": []
      },
      "outputs": [
        {
          "name": "stderr",
          "output_type": "stream",
          "text": [
            "C:\\Users\\João Miguel\\AppData\\Local\\Temp\\ipykernel_5036\\3723616163.py:2: FutureWarning: \n",
            "\n",
            "Passing `palette` without assigning `hue` is deprecated and will be removed in v0.14.0. Assign the `x` variable to `hue` and set `legend=False` for the same effect.\n",
            "\n",
            "  sns.barplot(data=smoking_df, x='Smoking', y='Diagnosis', palette='Set1')\n"
          ]
        },
        {
          "data": {
            "image/png": "[encoded data removed]",
            "text/plain": [
              "<Figure size 800x600 with 1 Axes>"
            ]
          },
          "metadata": {},
          "output_type": "display_data"
        }
      ],
      "source": [
        "plt.figure(figsize=(8, 6))\n",
        "sns.barplot(data=smoking_df, x='Smoking', y='Diagnosis', palette='Set1')\n",
        "plt.xlabel('Fumante')\n",
        "plt.ylabel('Porcentagem de diagnostico por paciênte')\n",
        "\n",
        "plt.show()"
      ]
    },
    {
      "cell_type": "markdown",
      "id": "a6823b2e",
      "metadata": {
        "id": "a6823b2e",
        "papermill": {
          "duration": 0.02686,
          "end_time": "2024-08-15T19:25:23.830355",
          "exception": false,
          "start_time": "2024-08-15T19:25:23.803495",
          "status": "completed"
        },
        "tags": []
      },
      "source": [
        "Como a porcentagem é quase a mesma, o hábito de fumar do paciente não contribui para o diagnóstico."
      ]
    },
    {
      "cell_type": "code",
      "execution_count": 30,
      "id": "49d228f5",
      "metadata": {
        "execution": {
          "iopub.execute_input": "2024-08-15T19:25:23.884646Z",
          "iopub.status.busy": "2024-08-15T19:25:23.883750Z",
          "iopub.status.idle": "2024-08-15T19:25:23.906825Z",
          "shell.execute_reply": "2024-08-15T19:25:23.905911Z"
        },
        "id": "49d228f5",
        "papermill": {
          "duration": 0.052838,
          "end_time": "2024-08-15T19:25:23.908943",
          "exception": false,
          "start_time": "2024-08-15T19:25:23.856105",
          "status": "completed"
        },
        "tags": []
      },
      "outputs": [
        {
          "data": {
            "text/html": [
              "<div>\n",
              "<style scoped>\n",
              "    .dataframe tbody tr th:only-of-type {\n",
              "        vertical-align: middle;\n",
              "    }\n",
              "\n",
              "    .dataframe tbody tr th {\n",
              "        vertical-align: top;\n",
              "    }\n",
              "\n",
              "    .dataframe thead th {\n",
              "        text-align: right;\n",
              "    }\n",
              "</style>\n",
              "<table border=\"1\" class=\"dataframe\">\n",
              "  <thead>\n",
              "    <tr style=\"text-align: right;\">\n",
              "      <th></th>\n",
              "      <th>Age</th>\n",
              "      <th>Gender</th>\n",
              "      <th>Ethnicity</th>\n",
              "      <th>EducationLevel</th>\n",
              "      <th>BMI</th>\n",
              "      <th>Smoking</th>\n",
              "      <th>AlcoholConsumption</th>\n",
              "      <th>PhysicalActivity</th>\n",
              "      <th>DietQuality</th>\n",
              "      <th>SleepQuality</th>\n",
              "      <th>...</th>\n",
              "      <th>BehavioralProblems</th>\n",
              "      <th>ADL</th>\n",
              "      <th>Confusion</th>\n",
              "      <th>Disorientation</th>\n",
              "      <th>PersonalityChanges</th>\n",
              "      <th>DifficultyCompletingTasks</th>\n",
              "      <th>Forgetfulness</th>\n",
              "      <th>Diagnosis</th>\n",
              "      <th>Age_bin</th>\n",
              "      <th>BMI_category</th>\n",
              "    </tr>\n",
              "  </thead>\n",
              "  <tbody>\n",
              "    <tr>\n",
              "      <th>0</th>\n",
              "      <td>73</td>\n",
              "      <td>0</td>\n",
              "      <td>0</td>\n",
              "      <td>2</td>\n",
              "      <td>22.927749</td>\n",
              "      <td>0</td>\n",
              "      <td>13.297218</td>\n",
              "      <td>6.327112</td>\n",
              "      <td>1.347214</td>\n",
              "      <td>9.025679</td>\n",
              "      <td>...</td>\n",
              "      <td>0</td>\n",
              "      <td>1.725883</td>\n",
              "      <td>0</td>\n",
              "      <td>0</td>\n",
              "      <td>0</td>\n",
              "      <td>1</td>\n",
              "      <td>0</td>\n",
              "      <td>0</td>\n",
              "      <td>(70.0, 75.0]</td>\n",
              "      <td>Healthy</td>\n",
              "    </tr>\n",
              "    <tr>\n",
              "      <th>1</th>\n",
              "      <td>89</td>\n",
              "      <td>0</td>\n",
              "      <td>0</td>\n",
              "      <td>0</td>\n",
              "      <td>26.827681</td>\n",
              "      <td>0</td>\n",
              "      <td>4.542524</td>\n",
              "      <td>7.619885</td>\n",
              "      <td>0.518767</td>\n",
              "      <td>7.151293</td>\n",
              "      <td>...</td>\n",
              "      <td>0</td>\n",
              "      <td>2.592424</td>\n",
              "      <td>0</td>\n",
              "      <td>0</td>\n",
              "      <td>0</td>\n",
              "      <td>0</td>\n",
              "      <td>1</td>\n",
              "      <td>0</td>\n",
              "      <td>(85.0, 90.0]</td>\n",
              "      <td>Overweight</td>\n",
              "    </tr>\n",
              "    <tr>\n",
              "      <th>2</th>\n",
              "      <td>73</td>\n",
              "      <td>0</td>\n",
              "      <td>3</td>\n",
              "      <td>1</td>\n",
              "      <td>17.795882</td>\n",
              "      <td>0</td>\n",
              "      <td>19.555085</td>\n",
              "      <td>7.844988</td>\n",
              "      <td>1.826335</td>\n",
              "      <td>9.673574</td>\n",
              "      <td>...</td>\n",
              "      <td>0</td>\n",
              "      <td>7.119548</td>\n",
              "      <td>0</td>\n",
              "      <td>1</td>\n",
              "      <td>0</td>\n",
              "      <td>1</td>\n",
              "      <td>0</td>\n",
              "      <td>0</td>\n",
              "      <td>(70.0, 75.0]</td>\n",
              "      <td>Underweight</td>\n",
              "    </tr>\n",
              "    <tr>\n",
              "      <th>3</th>\n",
              "      <td>74</td>\n",
              "      <td>1</td>\n",
              "      <td>0</td>\n",
              "      <td>1</td>\n",
              "      <td>33.800817</td>\n",
              "      <td>1</td>\n",
              "      <td>12.209266</td>\n",
              "      <td>8.428001</td>\n",
              "      <td>7.435604</td>\n",
              "      <td>8.392554</td>\n",
              "      <td>...</td>\n",
              "      <td>1</td>\n",
              "      <td>6.481226</td>\n",
              "      <td>0</td>\n",
              "      <td>0</td>\n",
              "      <td>0</td>\n",
              "      <td>0</td>\n",
              "      <td>0</td>\n",
              "      <td>0</td>\n",
              "      <td>(70.0, 75.0]</td>\n",
              "      <td>Obese</td>\n",
              "    </tr>\n",
              "    <tr>\n",
              "      <th>4</th>\n",
              "      <td>89</td>\n",
              "      <td>0</td>\n",
              "      <td>0</td>\n",
              "      <td>0</td>\n",
              "      <td>20.716974</td>\n",
              "      <td>0</td>\n",
              "      <td>18.454356</td>\n",
              "      <td>6.310461</td>\n",
              "      <td>0.795498</td>\n",
              "      <td>5.597238</td>\n",
              "      <td>...</td>\n",
              "      <td>0</td>\n",
              "      <td>0.014691</td>\n",
              "      <td>0</td>\n",
              "      <td>0</td>\n",
              "      <td>1</td>\n",
              "      <td>1</td>\n",
              "      <td>0</td>\n",
              "      <td>0</td>\n",
              "      <td>(85.0, 90.0]</td>\n",
              "      <td>Healthy</td>\n",
              "    </tr>\n",
              "  </tbody>\n",
              "</table>\n",
              "<p>5 rows × 35 columns</p>\n",
              "</div>"
            ],
            "text/plain": [
              "   Age  Gender  Ethnicity  EducationLevel        BMI  Smoking  \\\n",
              "0   73       0          0               2  22.927749        0   \n",
              "1   89       0          0               0  26.827681        0   \n",
              "2   73       0          3               1  17.795882        0   \n",
              "3   74       1          0               1  33.800817        1   \n",
              "4   89       0          0               0  20.716974        0   \n",
              "\n",
              "   AlcoholConsumption  PhysicalActivity  DietQuality  SleepQuality  ...  \\\n",
              "0           13.297218          6.327112     1.347214      9.025679  ...   \n",
              "1            4.542524          7.619885     0.518767      7.151293  ...   \n",
              "2           19.555085          7.844988     1.826335      9.673574  ...   \n",
              "3           12.209266          8.428001     7.435604      8.392554  ...   \n",
              "4           18.454356          6.310461     0.795498      5.597238  ...   \n",
              "\n",
              "   BehavioralProblems       ADL  Confusion  Disorientation  \\\n",
              "0                   0  1.725883          0               0   \n",
              "1                   0  2.592424          0               0   \n",
              "2                   0  7.119548          0               1   \n",
              "3                   1  6.481226          0               0   \n",
              "4                   0  0.014691          0               0   \n",
              "\n",
              "   PersonalityChanges  DifficultyCompletingTasks  Forgetfulness  Diagnosis  \\\n",
              "0                   0                          1              0          0   \n",
              "1                   0                          0              1          0   \n",
              "2                   0                          1              0          0   \n",
              "3                   0                          0              0          0   \n",
              "4                   1                          1              0          0   \n",
              "\n",
              "        Age_bin  BMI_category  \n",
              "0  (70.0, 75.0]       Healthy  \n",
              "1  (85.0, 90.0]    Overweight  \n",
              "2  (70.0, 75.0]   Underweight  \n",
              "3  (70.0, 75.0]         Obese  \n",
              "4  (85.0, 90.0]       Healthy  \n",
              "\n",
              "[5 rows x 35 columns]"
            ]
          },
          "metadata": {},
          "output_type": "display_data"
        }
      ],
      "source": [
        "display(df.head())"
      ]
    },
    {
      "cell_type": "code",
      "execution_count": 31,
      "id": "9b225267",
      "metadata": {
        "execution": {
          "iopub.execute_input": "2024-08-15T19:25:23.965624Z",
          "iopub.status.busy": "2024-08-15T19:25:23.964998Z",
          "iopub.status.idle": "2024-08-15T19:25:23.972390Z",
          "shell.execute_reply": "2024-08-15T19:25:23.971538Z"
        },
        "id": "9b225267",
        "papermill": {
          "duration": 0.037639,
          "end_time": "2024-08-15T19:25:23.974482",
          "exception": false,
          "start_time": "2024-08-15T19:25:23.936843",
          "status": "completed"
        },
        "tags": []
      },
      "outputs": [
        {
          "data": {
            "text/plain": [
              "0    13.297218\n",
              "1     4.542524\n",
              "2    19.555085\n",
              "3    12.209266\n",
              "4    18.454356\n",
              "Name: AlcoholConsumption, dtype: float64"
            ]
          },
          "execution_count": 31,
          "metadata": {},
          "output_type": "execute_result"
        }
      ],
      "source": [
        "df['AlcoholConsumption'].head()"
      ]
    },
    {
      "cell_type": "code",
      "execution_count": 32,
      "id": "093614e4",
      "metadata": {
        "execution": {
          "iopub.execute_input": "2024-08-15T19:25:24.032093Z",
          "iopub.status.busy": "2024-08-15T19:25:24.031365Z",
          "iopub.status.idle": "2024-08-15T19:25:24.276272Z",
          "shell.execute_reply": "2024-08-15T19:25:24.275271Z"
        },
        "id": "093614e4",
        "papermill": {
          "duration": 0.275798,
          "end_time": "2024-08-15T19:25:24.278767",
          "exception": false,
          "start_time": "2024-08-15T19:25:24.002969",
          "status": "completed"
        },
        "tags": []
      },
      "outputs": [
        {
          "data": {
            "text/plain": [
              "<Axes: xlabel='Diagnosis', ylabel='AlcoholConsumption'>"
            ]
          },
          "execution_count": 32,
          "metadata": {},
          "output_type": "execute_result"
        },
        {
          "data": {
            "image/png": "[encoded data removed]",
            "text/plain": [
              "<Figure size 640x480 with 1 Axes>"
            ]
          },
          "metadata": {},
          "output_type": "display_data"
        }
      ],
      "source": [
        "# Consumo de Álcool\n",
        "sns.boxplot(data = df, x ='Diagnosis', y='AlcoholConsumption')"
      ]
    },
    {
      "cell_type": "markdown",
      "id": "5c5a69b5",
      "metadata": {
        "id": "5c5a69b5",
        "papermill": {
          "duration": 0.02895,
          "end_time": "2024-08-15T19:25:24.335662",
          "exception": false,
          "start_time": "2024-08-15T19:25:24.306712",
          "status": "completed"
        },
        "tags": []
      },
      "source": [
        "We see no relation of Alcohol Consumption with the Diagnosis."
      ]
    },
    {
      "cell_type": "code",
      "execution_count": 33,
      "id": "4f8123fe",
      "metadata": {
        "execution": {
          "iopub.execute_input": "2024-08-15T19:25:24.394791Z",
          "iopub.status.busy": "2024-08-15T19:25:24.394036Z",
          "iopub.status.idle": "2024-08-15T19:25:24.557963Z",
          "shell.execute_reply": "2024-08-15T19:25:24.556707Z"
        },
        "id": "4f8123fe",
        "papermill": {
          "duration": 0.198072,
          "end_time": "2024-08-15T19:25:24.562452",
          "exception": false,
          "start_time": "2024-08-15T19:25:24.364380",
          "status": "completed"
        },
        "tags": []
      },
      "outputs": [
        {
          "data": {
            "text/plain": [
              "<Axes: xlabel='Diagnosis', ylabel='PhysicalActivity'>"
            ]
          },
          "execution_count": 33,
          "metadata": {},
          "output_type": "execute_result"
        },
        {
          "data": {
            "image/png": "[encoded data removed]",
            "text/plain": [
              "<Figure size 640x480 with 1 Axes>"
            ]
          },
          "metadata": {},
          "output_type": "display_data"
        }
      ],
      "source": [
        "sns.boxplot(data = df, x = 'Diagnosis',y = 'PhysicalActivity' )"
      ]
    },
    {
      "cell_type": "markdown",
      "id": "be21c9a7",
      "metadata": {
        "id": "be21c9a7",
        "papermill": {
          "duration": 0.027867,
          "end_time": "2024-08-15T19:25:24.620181",
          "exception": false,
          "start_time": "2024-08-15T19:25:24.592314",
          "status": "completed"
        },
        "tags": []
      },
      "source": [
        "Também não há relação com a Atividade Física do paciente."
      ]
    },
    {
      "cell_type": "code",
      "execution_count": 34,
      "id": "f090d206",
      "metadata": {
        "execution": {
          "iopub.execute_input": "2024-08-15T19:25:24.681177Z",
          "iopub.status.busy": "2024-08-15T19:25:24.680302Z",
          "iopub.status.idle": "2024-08-15T19:25:24.902821Z",
          "shell.execute_reply": "2024-08-15T19:25:24.901915Z"
        },
        "id": "f090d206",
        "papermill": {
          "duration": 0.255142,
          "end_time": "2024-08-15T19:25:24.905055",
          "exception": false,
          "start_time": "2024-08-15T19:25:24.649913",
          "status": "completed"
        },
        "tags": []
      },
      "outputs": [
        {
          "data": {
            "text/plain": [
              "<Axes: xlabel='Diagnosis', ylabel='DietQuality'>"
            ]
          },
          "execution_count": 34,
          "metadata": {},
          "output_type": "execute_result"
        },
        {
          "data": {
            "image/png": "[encoded data removed]",
            "text/plain": [
              "<Figure size 640x480 with 1 Axes>"
            ]
          },
          "metadata": {},
          "output_type": "display_data"
        }
      ],
      "source": [
        "sns.boxplot(data = df, x ='Diagnosis', y = 'DietQuality')"
      ]
    },
    {
      "cell_type": "code",
      "execution_count": 35,
      "id": "1cbb5b6c",
      "metadata": {
        "execution": {
          "iopub.execute_input": "2024-08-15T19:25:24.964929Z",
          "iopub.status.busy": "2024-08-15T19:25:24.964341Z",
          "iopub.status.idle": "2024-08-15T19:25:25.183062Z",
          "shell.execute_reply": "2024-08-15T19:25:25.182078Z"
        },
        "id": "1cbb5b6c",
        "papermill": {
          "duration": 0.252101,
          "end_time": "2024-08-15T19:25:25.185516",
          "exception": false,
          "start_time": "2024-08-15T19:25:24.933415",
          "status": "completed"
        },
        "tags": []
      },
      "outputs": [
        {
          "data": {
            "text/plain": [
              "<Axes: xlabel='Diagnosis', ylabel='SleepQuality'>"
            ]
          },
          "execution_count": 35,
          "metadata": {},
          "output_type": "execute_result"
        },
        {
          "data": {
            "image/png": "[encoded data removed]",
            "text/plain": [
              "<Figure size 640x480 with 1 Axes>"
            ]
          },
          "metadata": {},
          "output_type": "display_data"
        }
      ],
      "source": [
        "sns.boxplot(data=df,x = 'Diagnosis', y='SleepQuality')"
      ]
    },
    {
      "cell_type": "markdown",
      "id": "3a41ac5d",
      "metadata": {
        "id": "3a41ac5d",
        "papermill": {
          "duration": 0.028781,
          "end_time": "2024-08-15T19:25:25.243801",
          "exception": false,
          "start_time": "2024-08-15T19:25:25.215020",
          "status": "completed"
        },
        "tags": []
      },
      "source": [
        "Como não há distinção de diagnóstico para essas características, elas não são relevantes para o modelo."
      ]
    },
    {
      "cell_type": "markdown",
      "id": "0eca64b1",
      "metadata": {
        "id": "0eca64b1",
        "papermill": {
          "duration": 0.02989,
          "end_time": "2024-08-15T19:25:25.302227",
          "exception": false,
          "start_time": "2024-08-15T19:25:25.272337",
          "status": "completed"
        },
        "tags": []
      },
      "source": [
        "## EDA sobre Histórico Médico"
      ]
    },
    {
      "cell_type": "code",
      "execution_count": 39,
      "id": "2abf0ccb",
      "metadata": {
        "execution": {
          "iopub.execute_input": "2024-08-15T19:25:25.371566Z",
          "iopub.status.busy": "2024-08-15T19:25:25.370712Z",
          "iopub.status.idle": "2024-08-15T19:25:25.378721Z",
          "shell.execute_reply": "2024-08-15T19:25:25.377693Z"
        },
        "id": "2abf0ccb",
        "papermill": {
          "duration": 0.049704,
          "end_time": "2024-08-15T19:25:25.381369",
          "exception": false,
          "start_time": "2024-08-15T19:25:25.331665",
          "status": "completed"
        },
        "tags": []
      },
      "outputs": [],
      "source": [
        "## Efeito da História Familiar\n",
        "\n",
        "hf_df = df.groupby('FamilyHistoryAlzheimers')['Diagnosis'].mean().reset_index()"
      ]
    },
    {
      "cell_type": "code",
      "execution_count": 40,
      "id": "4a43fcd0",
      "metadata": {
        "execution": {
          "iopub.execute_input": "2024-08-15T19:25:25.449799Z",
          "iopub.status.busy": "2024-08-15T19:25:25.449403Z",
          "iopub.status.idle": "2024-08-15T19:25:25.459171Z",
          "shell.execute_reply": "2024-08-15T19:25:25.458173Z"
        },
        "id": "4a43fcd0",
        "papermill": {
          "duration": 0.047235,
          "end_time": "2024-08-15T19:25:25.461528",
          "exception": false,
          "start_time": "2024-08-15T19:25:25.414293",
          "status": "completed"
        },
        "tags": []
      },
      "outputs": [
        {
          "data": {
            "text/html": [
              "<div>\n",
              "<style scoped>\n",
              "    .dataframe tbody tr th:only-of-type {\n",
              "        vertical-align: middle;\n",
              "    }\n",
              "\n",
              "    .dataframe tbody tr th {\n",
              "        vertical-align: top;\n",
              "    }\n",
              "\n",
              "    .dataframe thead th {\n",
              "        text-align: right;\n",
              "    }\n",
              "</style>\n",
              "<table border=\"1\" class=\"dataframe\">\n",
              "  <thead>\n",
              "    <tr style=\"text-align: right;\">\n",
              "      <th></th>\n",
              "      <th>FamilyHistoryAlzheimers</th>\n",
              "      <th>Diagnosis</th>\n",
              "    </tr>\n",
              "  </thead>\n",
              "  <tbody>\n",
              "    <tr>\n",
              "      <th>0</th>\n",
              "      <td>0</td>\n",
              "      <td>0.362788</td>\n",
              "    </tr>\n",
              "    <tr>\n",
              "      <th>1</th>\n",
              "      <td>1</td>\n",
              "      <td>0.326568</td>\n",
              "    </tr>\n",
              "  </tbody>\n",
              "</table>\n",
              "</div>"
            ],
            "text/plain": [
              "   FamilyHistoryAlzheimers  Diagnosis\n",
              "0                        0   0.362788\n",
              "1                        1   0.326568"
            ]
          },
          "execution_count": 40,
          "metadata": {},
          "output_type": "execute_result"
        }
      ],
      "source": [
        "hf_df"
      ]
    },
    {
      "cell_type": "markdown",
      "id": "a2b31d3a",
      "metadata": {
        "id": "a2b31d3a",
        "papermill": {
          "duration": 0.029084,
          "end_time": "2024-08-15T19:25:25.522249",
          "exception": false,
          "start_time": "2024-08-15T19:25:25.493165",
          "status": "completed"
        },
        "tags": []
      },
      "source": [
        "Como a porcentagem de casos em ambos os cenários é quase igual, não há evidências de histórico familiar de Alzheimer para o diagnóstico."
      ]
    },
    {
      "cell_type": "code",
      "execution_count": 41,
      "id": "1a90be17",
      "metadata": {
        "execution": {
          "iopub.execute_input": "2024-08-15T19:25:25.584820Z",
          "iopub.status.busy": "2024-08-15T19:25:25.584146Z",
          "iopub.status.idle": "2024-08-15T19:25:25.595807Z",
          "shell.execute_reply": "2024-08-15T19:25:25.594902Z"
        },
        "id": "1a90be17",
        "papermill": {
          "duration": 0.044789,
          "end_time": "2024-08-15T19:25:25.597936",
          "exception": false,
          "start_time": "2024-08-15T19:25:25.553147",
          "status": "completed"
        },
        "tags": []
      },
      "outputs": [
        {
          "data": {
            "text/html": [
              "<div>\n",
              "<style scoped>\n",
              "    .dataframe tbody tr th:only-of-type {\n",
              "        vertical-align: middle;\n",
              "    }\n",
              "\n",
              "    .dataframe tbody tr th {\n",
              "        vertical-align: top;\n",
              "    }\n",
              "\n",
              "    .dataframe thead th {\n",
              "        text-align: right;\n",
              "    }\n",
              "</style>\n",
              "<table border=\"1\" class=\"dataframe\">\n",
              "  <thead>\n",
              "    <tr style=\"text-align: right;\">\n",
              "      <th></th>\n",
              "      <th>CardiovascularDisease</th>\n",
              "      <th>Diagnosis</th>\n",
              "    </tr>\n",
              "  </thead>\n",
              "  <tbody>\n",
              "    <tr>\n",
              "      <th>0</th>\n",
              "      <td>0</td>\n",
              "      <td>0.347471</td>\n",
              "    </tr>\n",
              "    <tr>\n",
              "      <th>1</th>\n",
              "      <td>1</td>\n",
              "      <td>0.390323</td>\n",
              "    </tr>\n",
              "  </tbody>\n",
              "</table>\n",
              "</div>"
            ],
            "text/plain": [
              "   CardiovascularDisease  Diagnosis\n",
              "0                      0   0.347471\n",
              "1                      1   0.390323"
            ]
          },
          "execution_count": 41,
          "metadata": {},
          "output_type": "execute_result"
        }
      ],
      "source": [
        "df.groupby('CardiovascularDisease')['Diagnosis'].mean().reset_index()"
      ]
    },
    {
      "cell_type": "code",
      "execution_count": 42,
      "id": "f4bcf392",
      "metadata": {
        "execution": {
          "iopub.execute_input": "2024-08-15T19:25:25.660034Z",
          "iopub.status.busy": "2024-08-15T19:25:25.659345Z",
          "iopub.status.idle": "2024-08-15T19:25:25.670711Z",
          "shell.execute_reply": "2024-08-15T19:25:25.669812Z"
        },
        "id": "f4bcf392",
        "papermill": {
          "duration": 0.04541,
          "end_time": "2024-08-15T19:25:25.672846",
          "exception": false,
          "start_time": "2024-08-15T19:25:25.627436",
          "status": "completed"
        },
        "tags": []
      },
      "outputs": [
        {
          "data": {
            "text/html": [
              "<div>\n",
              "<style scoped>\n",
              "    .dataframe tbody tr th:only-of-type {\n",
              "        vertical-align: middle;\n",
              "    }\n",
              "\n",
              "    .dataframe tbody tr th {\n",
              "        vertical-align: top;\n",
              "    }\n",
              "\n",
              "    .dataframe thead th {\n",
              "        text-align: right;\n",
              "    }\n",
              "</style>\n",
              "<table border=\"1\" class=\"dataframe\">\n",
              "  <thead>\n",
              "    <tr style=\"text-align: right;\">\n",
              "      <th></th>\n",
              "      <th>Diabetes</th>\n",
              "      <th>Diagnosis</th>\n",
              "    </tr>\n",
              "  </thead>\n",
              "  <tbody>\n",
              "    <tr>\n",
              "      <th>0</th>\n",
              "      <td>0</td>\n",
              "      <td>0.360000</td>\n",
              "    </tr>\n",
              "    <tr>\n",
              "      <th>1</th>\n",
              "      <td>1</td>\n",
              "      <td>0.317901</td>\n",
              "    </tr>\n",
              "  </tbody>\n",
              "</table>\n",
              "</div>"
            ],
            "text/plain": [
              "   Diabetes  Diagnosis\n",
              "0         0   0.360000\n",
              "1         1   0.317901"
            ]
          },
          "execution_count": 42,
          "metadata": {},
          "output_type": "execute_result"
        }
      ],
      "source": [
        "df.groupby('Diabetes')['Diagnosis'].mean().reset_index()"
      ]
    },
    {
      "cell_type": "code",
      "execution_count": 43,
      "id": "4f99db83",
      "metadata": {
        "execution": {
          "iopub.execute_input": "2024-08-15T19:25:25.732927Z",
          "iopub.status.busy": "2024-08-15T19:25:25.732104Z",
          "iopub.status.idle": "2024-08-15T19:25:25.745484Z",
          "shell.execute_reply": "2024-08-15T19:25:25.744346Z"
        },
        "id": "4f99db83",
        "papermill": {
          "duration": 0.047105,
          "end_time": "2024-08-15T19:25:25.748690",
          "exception": false,
          "start_time": "2024-08-15T19:25:25.701585",
          "status": "completed"
        },
        "tags": []
      },
      "outputs": [
        {
          "data": {
            "text/html": [
              "<div>\n",
              "<style scoped>\n",
              "    .dataframe tbody tr th:only-of-type {\n",
              "        vertical-align: middle;\n",
              "    }\n",
              "\n",
              "    .dataframe tbody tr th {\n",
              "        vertical-align: top;\n",
              "    }\n",
              "\n",
              "    .dataframe thead th {\n",
              "        text-align: right;\n",
              "    }\n",
              "</style>\n",
              "<table border=\"1\" class=\"dataframe\">\n",
              "  <thead>\n",
              "    <tr style=\"text-align: right;\">\n",
              "      <th></th>\n",
              "      <th>Depression</th>\n",
              "      <th>Diagnosis</th>\n",
              "    </tr>\n",
              "  </thead>\n",
              "  <tbody>\n",
              "    <tr>\n",
              "      <th>0</th>\n",
              "      <td>0</td>\n",
              "      <td>0.355064</td>\n",
              "    </tr>\n",
              "    <tr>\n",
              "      <th>1</th>\n",
              "      <td>1</td>\n",
              "      <td>0.348028</td>\n",
              "    </tr>\n",
              "  </tbody>\n",
              "</table>\n",
              "</div>"
            ],
            "text/plain": [
              "   Depression  Diagnosis\n",
              "0           0   0.355064\n",
              "1           1   0.348028"
            ]
          },
          "execution_count": 43,
          "metadata": {},
          "output_type": "execute_result"
        }
      ],
      "source": [
        "df.groupby('Depression')['Diagnosis'].mean().reset_index()"
      ]
    },
    {
      "cell_type": "code",
      "execution_count": 44,
      "id": "10d2d2ed",
      "metadata": {
        "execution": {
          "iopub.execute_input": "2024-08-15T19:25:25.817260Z",
          "iopub.status.busy": "2024-08-15T19:25:25.816564Z",
          "iopub.status.idle": "2024-08-15T19:25:25.827762Z",
          "shell.execute_reply": "2024-08-15T19:25:25.826890Z"
        },
        "id": "10d2d2ed",
        "papermill": {
          "duration": 0.04851,
          "end_time": "2024-08-15T19:25:25.830260",
          "exception": false,
          "start_time": "2024-08-15T19:25:25.781750",
          "status": "completed"
        },
        "tags": []
      },
      "outputs": [
        {
          "data": {
            "text/html": [
              "<div>\n",
              "<style scoped>\n",
              "    .dataframe tbody tr th:only-of-type {\n",
              "        vertical-align: middle;\n",
              "    }\n",
              "\n",
              "    .dataframe tbody tr th {\n",
              "        vertical-align: top;\n",
              "    }\n",
              "\n",
              "    .dataframe thead th {\n",
              "        text-align: right;\n",
              "    }\n",
              "</style>\n",
              "<table border=\"1\" class=\"dataframe\">\n",
              "  <thead>\n",
              "    <tr style=\"text-align: right;\">\n",
              "      <th></th>\n",
              "      <th>HeadInjury</th>\n",
              "      <th>Diagnosis</th>\n",
              "    </tr>\n",
              "  </thead>\n",
              "  <tbody>\n",
              "    <tr>\n",
              "      <th>0</th>\n",
              "      <td>0</td>\n",
              "      <td>0.356923</td>\n",
              "    </tr>\n",
              "    <tr>\n",
              "      <th>1</th>\n",
              "      <td>1</td>\n",
              "      <td>0.321608</td>\n",
              "    </tr>\n",
              "  </tbody>\n",
              "</table>\n",
              "</div>"
            ],
            "text/plain": [
              "   HeadInjury  Diagnosis\n",
              "0           0   0.356923\n",
              "1           1   0.321608"
            ]
          },
          "execution_count": 44,
          "metadata": {},
          "output_type": "execute_result"
        }
      ],
      "source": [
        "df.groupby('HeadInjury')['Diagnosis'].mean().reset_index()"
      ]
    },
    {
      "cell_type": "code",
      "execution_count": 45,
      "id": "30da9840",
      "metadata": {
        "execution": {
          "iopub.execute_input": "2024-08-15T19:25:25.892100Z",
          "iopub.status.busy": "2024-08-15T19:25:25.891312Z",
          "iopub.status.idle": "2024-08-15T19:25:25.902047Z",
          "shell.execute_reply": "2024-08-15T19:25:25.901199Z"
        },
        "id": "30da9840",
        "papermill": {
          "duration": 0.043936,
          "end_time": "2024-08-15T19:25:25.904079",
          "exception": false,
          "start_time": "2024-08-15T19:25:25.860143",
          "status": "completed"
        },
        "tags": []
      },
      "outputs": [
        {
          "data": {
            "text/html": [
              "<div>\n",
              "<style scoped>\n",
              "    .dataframe tbody tr th:only-of-type {\n",
              "        vertical-align: middle;\n",
              "    }\n",
              "\n",
              "    .dataframe tbody tr th {\n",
              "        vertical-align: top;\n",
              "    }\n",
              "\n",
              "    .dataframe thead th {\n",
              "        text-align: right;\n",
              "    }\n",
              "</style>\n",
              "<table border=\"1\" class=\"dataframe\">\n",
              "  <thead>\n",
              "    <tr style=\"text-align: right;\">\n",
              "      <th></th>\n",
              "      <th>Hypertension</th>\n",
              "      <th>Diagnosis</th>\n",
              "    </tr>\n",
              "  </thead>\n",
              "  <tbody>\n",
              "    <tr>\n",
              "      <th>0</th>\n",
              "      <td>0</td>\n",
              "      <td>0.346638</td>\n",
              "    </tr>\n",
              "    <tr>\n",
              "      <th>1</th>\n",
              "      <td>1</td>\n",
              "      <td>0.393750</td>\n",
              "    </tr>\n",
              "  </tbody>\n",
              "</table>\n",
              "</div>"
            ],
            "text/plain": [
              "   Hypertension  Diagnosis\n",
              "0             0   0.346638\n",
              "1             1   0.393750"
            ]
          },
          "execution_count": 45,
          "metadata": {},
          "output_type": "execute_result"
        }
      ],
      "source": [
        "df.groupby('Hypertension')['Diagnosis'].mean().reset_index()"
      ]
    },
    {
      "cell_type": "markdown",
      "id": "fd5e0de9",
      "metadata": {
        "id": "fd5e0de9",
        "papermill": {
          "duration": 0.029283,
          "end_time": "2024-08-15T19:25:25.963834",
          "exception": false,
          "start_time": "2024-08-15T19:25:25.934551",
          "status": "completed"
        },
        "tags": []
      },
      "source": [
        "## EDA sobre Medições Clínicas"
      ]
    },
    {
      "cell_type": "code",
      "execution_count": 46,
      "id": "557150ab",
      "metadata": {
        "execution": {
          "iopub.execute_input": "2024-08-15T19:25:26.027981Z",
          "iopub.status.busy": "2024-08-15T19:25:26.027262Z",
          "iopub.status.idle": "2024-08-15T19:25:26.248094Z",
          "shell.execute_reply": "2024-08-15T19:25:26.247093Z"
        },
        "id": "557150ab",
        "papermill": {
          "duration": 0.255049,
          "end_time": "2024-08-15T19:25:26.250561",
          "exception": false,
          "start_time": "2024-08-15T19:25:25.995512",
          "status": "completed"
        },
        "tags": []
      },
      "outputs": [
        {
          "data": {
            "text/plain": [
              "<Axes: xlabel='Diagnosis', ylabel='SystolicBP'>"
            ]
          },
          "execution_count": 46,
          "metadata": {},
          "output_type": "execute_result"
        },
        {
          "data": {
            "image/png": "[encoded data removed]",
            "text/plain": [
              "<Figure size 640x480 with 1 Axes>"
            ]
          },
          "metadata": {},
          "output_type": "display_data"
        }
      ],
      "source": [
        "sns.boxplot(data=df,x = 'Diagnosis',y='SystolicBP')"
      ]
    },
    {
      "cell_type": "code",
      "execution_count": 47,
      "id": "7c34c171",
      "metadata": {
        "execution": {
          "iopub.execute_input": "2024-08-15T19:25:26.318260Z",
          "iopub.status.busy": "2024-08-15T19:25:26.317235Z",
          "iopub.status.idle": "2024-08-15T19:25:26.551716Z",
          "shell.execute_reply": "2024-08-15T19:25:26.550766Z"
        },
        "id": "7c34c171",
        "papermill": {
          "duration": 0.270792,
          "end_time": "2024-08-15T19:25:26.553789",
          "exception": false,
          "start_time": "2024-08-15T19:25:26.282997",
          "status": "completed"
        },
        "tags": []
      },
      "outputs": [
        {
          "data": {
            "text/plain": [
              "<Axes: xlabel='Diagnosis', ylabel='DiastolicBP'>"
            ]
          },
          "execution_count": 47,
          "metadata": {},
          "output_type": "execute_result"
        },
        {
          "data": {
            "image/png": "[encoded data removed]",
            "text/plain": [
              "<Figure size 640x480 with 1 Axes>"
            ]
          },
          "metadata": {},
          "output_type": "display_data"
        }
      ],
      "source": [
        "sns.boxplot(data=df,x = 'Diagnosis',y='DiastolicBP')"
      ]
    },
    {
      "cell_type": "code",
      "execution_count": 48,
      "id": "a0f7daa5",
      "metadata": {
        "execution": {
          "iopub.execute_input": "2024-08-15T19:25:26.618881Z",
          "iopub.status.busy": "2024-08-15T19:25:26.618193Z",
          "iopub.status.idle": "2024-08-15T19:25:26.795257Z",
          "shell.execute_reply": "2024-08-15T19:25:26.794191Z"
        },
        "id": "a0f7daa5",
        "papermill": {
          "duration": 0.21203,
          "end_time": "2024-08-15T19:25:26.797342",
          "exception": false,
          "start_time": "2024-08-15T19:25:26.585312",
          "status": "completed"
        },
        "tags": []
      },
      "outputs": [
        {
          "data": {
            "text/plain": [
              "<Axes: xlabel='Diagnosis', ylabel='CholesterolTotal'>"
            ]
          },
          "execution_count": 48,
          "metadata": {},
          "output_type": "execute_result"
        },
        {
          "data": {
            "image/png": "[encoded data removed]",
            "text/plain": [
              "<Figure size 640x480 with 1 Axes>"
            ]
          },
          "metadata": {},
          "output_type": "display_data"
        }
      ],
      "source": [
        "sns.boxplot(data=df,x = 'Diagnosis',y='CholesterolTotal')"
      ]
    },
    {
      "cell_type": "code",
      "execution_count": 49,
      "id": "1387c267",
      "metadata": {
        "execution": {
          "iopub.execute_input": "2024-08-15T19:25:26.864331Z",
          "iopub.status.busy": "2024-08-15T19:25:26.863449Z",
          "iopub.status.idle": "2024-08-15T19:25:27.098123Z",
          "shell.execute_reply": "2024-08-15T19:25:27.097119Z"
        },
        "id": "1387c267",
        "papermill": {
          "duration": 0.270064,
          "end_time": "2024-08-15T19:25:27.100468",
          "exception": false,
          "start_time": "2024-08-15T19:25:26.830404",
          "status": "completed"
        },
        "tags": []
      },
      "outputs": [
        {
          "data": {
            "text/plain": [
              "<Axes: xlabel='Diagnosis', ylabel='CholesterolLDL'>"
            ]
          },
          "execution_count": 49,
          "metadata": {},
          "output_type": "execute_result"
        },
        {
          "data": {
            "image/png": "[encoded data removed]",
            "text/plain": [
              "<Figure size 640x480 with 1 Axes>"
            ]
          },
          "metadata": {},
          "output_type": "display_data"
        }
      ],
      "source": [
        "sns.boxplot(data=df,x = 'Diagnosis',y='CholesterolLDL')"
      ]
    },
    {
      "cell_type": "code",
      "execution_count": 50,
      "id": "90b642ac",
      "metadata": {
        "execution": {
          "iopub.execute_input": "2024-08-15T19:25:27.166532Z",
          "iopub.status.busy": "2024-08-15T19:25:27.166163Z",
          "iopub.status.idle": "2024-08-15T19:25:27.428104Z",
          "shell.execute_reply": "2024-08-15T19:25:27.426730Z"
        },
        "id": "90b642ac",
        "papermill": {
          "duration": 0.298588,
          "end_time": "2024-08-15T19:25:27.431331",
          "exception": false,
          "start_time": "2024-08-15T19:25:27.132743",
          "status": "completed"
        },
        "tags": []
      },
      "outputs": [
        {
          "data": {
            "text/plain": [
              "<Axes: xlabel='Diagnosis', ylabel='CholesterolHDL'>"
            ]
          },
          "execution_count": 50,
          "metadata": {},
          "output_type": "execute_result"
        },
        {
          "data": {
            "image/png": "[encoded data removed]",
            "text/plain": [
              "<Figure size 640x480 with 1 Axes>"
            ]
          },
          "metadata": {},
          "output_type": "display_data"
        }
      ],
      "source": [
        "sns.boxplot(data=df,x = 'Diagnosis',y='CholesterolHDL')"
      ]
    },
    {
      "cell_type": "code",
      "execution_count": 51,
      "id": "4a7ea947",
      "metadata": {
        "execution": {
          "iopub.execute_input": "2024-08-15T19:25:27.499961Z",
          "iopub.status.busy": "2024-08-15T19:25:27.499164Z",
          "iopub.status.idle": "2024-08-15T19:25:27.743570Z",
          "shell.execute_reply": "2024-08-15T19:25:27.742640Z"
        },
        "id": "4a7ea947",
        "papermill": {
          "duration": 0.28185,
          "end_time": "2024-08-15T19:25:27.746407",
          "exception": false,
          "start_time": "2024-08-15T19:25:27.464557",
          "status": "completed"
        },
        "tags": []
      },
      "outputs": [
        {
          "data": {
            "text/plain": [
              "<Axes: xlabel='Diagnosis', ylabel='CholesterolTriglycerides'>"
            ]
          },
          "execution_count": 51,
          "metadata": {},
          "output_type": "execute_result"
        },
        {
          "data": {
            "image/png": "[encoded data removed]",
            "text/plain": [
              "<Figure size 640x480 with 1 Axes>"
            ]
          },
          "metadata": {},
          "output_type": "display_data"
        }
      ],
      "source": [
        "sns.boxplot(data=df,x = 'Diagnosis',y='CholesterolTriglycerides')"
      ]
    },
    {
      "cell_type": "markdown",
      "id": "95be43b7",
      "metadata": {
        "id": "95be43b7",
        "papermill": {
          "duration": 0.034866,
          "end_time": "2024-08-15T19:25:27.819747",
          "exception": false,
          "start_time": "2024-08-15T19:25:27.784881",
          "status": "completed"
        },
        "tags": []
      },
      "source": [
        "Não há distinção para o diagnóstico com base nas Medições Clínicas. Portanto, essas características não serão relevantes para o nosso modelo, pois não dependem do resultado do diagnóstico."
      ]
    },
    {
      "cell_type": "markdown",
      "id": "40535309",
      "metadata": {
        "id": "40535309",
        "papermill": {
          "duration": 0.032573,
          "end_time": "2024-08-15T19:25:27.886792",
          "exception": false,
          "start_time": "2024-08-15T19:25:27.854219",
          "status": "completed"
        },
        "tags": []
      },
      "source": [
        "## EDA sobre Avaliações Cognitivas"
      ]
    },
    {
      "cell_type": "code",
      "execution_count": 52,
      "id": "860067c3",
      "metadata": {
        "execution": {
          "iopub.execute_input": "2024-08-15T19:25:27.957395Z",
          "iopub.status.busy": "2024-08-15T19:25:27.956629Z",
          "iopub.status.idle": "2024-08-15T19:25:28.194255Z",
          "shell.execute_reply": "2024-08-15T19:25:28.193035Z"
        },
        "id": "860067c3",
        "papermill": {
          "duration": 0.276129,
          "end_time": "2024-08-15T19:25:28.196591",
          "exception": false,
          "start_time": "2024-08-15T19:25:27.920462",
          "status": "completed"
        },
        "tags": []
      },
      "outputs": [
        {
          "data": {
            "text/plain": [
              "<Axes: xlabel='Diagnosis', ylabel='MMSE'>"
            ]
          },
          "execution_count": 52,
          "metadata": {},
          "output_type": "execute_result"
        },
        {
          "data": {
            "image/png": "[encoded data removed]",
            "text/plain": [
              "<Figure size 640x480 with 1 Axes>"
            ]
          },
          "metadata": {},
          "output_type": "display_data"
        }
      ],
      "source": [
        "sns.boxplot(data=df,x = 'Diagnosis', y= 'MMSE')"
      ]
    },
    {
      "cell_type": "markdown",
      "id": "d8e04646",
      "metadata": {
        "id": "d8e04646",
        "papermill": {
          "duration": 0.036663,
          "end_time": "2024-08-15T19:25:28.272879",
          "exception": false,
          "start_time": "2024-08-15T19:25:28.236216",
          "status": "completed"
        },
        "tags": []
      },
      "source": [
        "Como pontuações mais baixas no MMSE indicam comprometimento cognitivo, podemos observar que há uma diferença significativa na pontuação mediana do MMSE. Os pacientes diagnosticados têm uma pontuação mediana do MMSE mais baixa. Essa característica pode ser usada."
      ]
    },
    {
      "cell_type": "code",
      "execution_count": 53,
      "id": "19b41719",
      "metadata": {
        "execution": {
          "iopub.execute_input": "2024-08-15T19:25:28.347461Z",
          "iopub.status.busy": "2024-08-15T19:25:28.347089Z",
          "iopub.status.idle": "2024-08-15T19:25:35.139539Z",
          "shell.execute_reply": "2024-08-15T19:25:35.138623Z"
        },
        "id": "19b41719",
        "papermill": {
          "duration": 6.83273,
          "end_time": "2024-08-15T19:25:35.142237",
          "exception": false,
          "start_time": "2024-08-15T19:25:28.309507",
          "status": "completed"
        },
        "tags": []
      },
      "outputs": [
        {
          "data": {
            "text/plain": [
              "<Axes: xlabel='Diagnosis', ylabel='FunctionalAssessment'>"
            ]
          },
          "execution_count": 53,
          "metadata": {},
          "output_type": "execute_result"
        },
        {
          "data": {
            "image/png": "[encoded data removed]",
            "text/plain": [
              "<Figure size 640x480 with 1 Axes>"
            ]
          },
          "metadata": {},
          "output_type": "display_data"
        }
      ],
      "source": [
        "sns.swarmplot(data=df,x='Diagnosis',y='FunctionalAssessment',size = 2)"
      ]
    },
    {
      "cell_type": "markdown",
      "id": "c0ba4adc",
      "metadata": {
        "id": "c0ba4adc",
        "papermill": {
          "duration": 0.035648,
          "end_time": "2024-08-15T19:25:35.212401",
          "exception": false,
          "start_time": "2024-08-15T19:25:35.176753",
          "status": "completed"
        },
        "tags": []
      },
      "source": [
        "Observamos que há muitos pacientes diagnosticados com pontuação inferior a 5. A maioria dos pacientes diagnosticados tem pontuações mais baixas neste teste."
      ]
    },
    {
      "cell_type": "code",
      "execution_count": 54,
      "id": "1d722224",
      "metadata": {
        "execution": {
          "iopub.execute_input": "2024-08-15T19:25:35.283905Z",
          "iopub.status.busy": "2024-08-15T19:25:35.283089Z",
          "iopub.status.idle": "2024-08-15T19:25:35.445013Z",
          "shell.execute_reply": "2024-08-15T19:25:35.443906Z"
        },
        "id": "1d722224",
        "papermill": {
          "duration": 0.200065,
          "end_time": "2024-08-15T19:25:35.447468",
          "exception": false,
          "start_time": "2024-08-15T19:25:35.247403",
          "status": "completed"
        },
        "tags": []
      },
      "outputs": [
        {
          "data": {
            "text/plain": [
              "<Axes: xlabel='MemoryComplaints', ylabel='Diagnosis'>"
            ]
          },
          "execution_count": 54,
          "metadata": {},
          "output_type": "execute_result"
        },
        {
          "data": {
            "image/png": "[encoded data removed]",
            "text/plain": [
              "<Figure size 640x480 with 1 Axes>"
            ]
          },
          "metadata": {},
          "output_type": "display_data"
        }
      ],
      "source": [
        "memcomp = df.groupby('MemoryComplaints')['Diagnosis'].mean().reset_index()\n",
        "memcomp['Diagnosis']*= 100\n",
        "sns.barplot(x='MemoryComplaints', y='Diagnosis', data=memcomp)"
      ]
    },
    {
      "cell_type": "markdown",
      "id": "d876a655",
      "metadata": {
        "id": "d876a655",
        "papermill": {
          "duration": 0.036272,
          "end_time": "2024-08-15T19:25:35.521187",
          "exception": false,
          "start_time": "2024-08-15T19:25:35.484915",
          "status": "completed"
        },
        "tags": []
      },
      "source": [
        "Observamos que a maioria dos pacientes diagnosticados tem queixas de memória. Portanto, essa característica seria muito decisiva para as previsões."
      ]
    },
    {
      "cell_type": "code",
      "execution_count": 55,
      "id": "90240031",
      "metadata": {
        "execution": {
          "iopub.execute_input": "2024-08-15T19:25:35.594467Z",
          "iopub.status.busy": "2024-08-15T19:25:35.594081Z",
          "iopub.status.idle": "2024-08-15T19:25:35.756700Z",
          "shell.execute_reply": "2024-08-15T19:25:35.755717Z"
        },
        "id": "90240031",
        "papermill": {
          "duration": 0.201599,
          "end_time": "2024-08-15T19:25:35.758846",
          "exception": false,
          "start_time": "2024-08-15T19:25:35.557247",
          "status": "completed"
        },
        "tags": []
      },
      "outputs": [
        {
          "data": {
            "text/plain": [
              "<Axes: xlabel='BehavioralProblems', ylabel='Diagnosis'>"
            ]
          },
          "execution_count": 55,
          "metadata": {},
          "output_type": "execute_result"
        },
        {
          "data": {
            "image/png": "[encoded data removed]",
            "text/plain": [
              "<Figure size 640x480 with 1 Axes>"
            ]
          },
          "metadata": {},
          "output_type": "display_data"
        }
      ],
      "source": [
        "beh_comp = df.groupby('BehavioralProblems')['Diagnosis'].mean().reset_index()\n",
        "beh_comp['Diagnosis']*= 100\n",
        "sns.barplot(x='BehavioralProblems', y='Diagnosis', data=beh_comp)"
      ]
    },
    {
      "cell_type": "code",
      "execution_count": 56,
      "id": "3b59eb23",
      "metadata": {
        "execution": {
          "iopub.execute_input": "2024-08-15T19:25:35.835158Z",
          "iopub.status.busy": "2024-08-15T19:25:35.834437Z",
          "iopub.status.idle": "2024-08-15T19:25:42.613576Z",
          "shell.execute_reply": "2024-08-15T19:25:42.612570Z"
        },
        "id": "3b59eb23",
        "papermill": {
          "duration": 6.820313,
          "end_time": "2024-08-15T19:25:42.615978",
          "exception": false,
          "start_time": "2024-08-15T19:25:35.795665",
          "status": "completed"
        },
        "tags": []
      },
      "outputs": [
        {
          "data": {
            "text/plain": [
              "<Axes: xlabel='Diagnosis', ylabel='ADL'>"
            ]
          },
          "execution_count": 56,
          "metadata": {},
          "output_type": "execute_result"
        },
        {
          "data": {
            "image/png": "[encoded data removed]",
            "text/plain": [
              "<Figure size 640x480 with 1 Axes>"
            ]
          },
          "metadata": {},
          "output_type": "display_data"
        }
      ],
      "source": [
        "sns.swarmplot(data = df, x = 'Diagnosis', y = 'ADL',size = 2)"
      ]
    },
    {
      "cell_type": "markdown",
      "id": "e5a65705",
      "metadata": {
        "id": "e5a65705",
        "papermill": {
          "duration": 0.038135,
          "end_time": "2024-08-15T19:25:42.691690",
          "exception": false,
          "start_time": "2024-08-15T19:25:42.653555",
          "status": "completed"
        },
        "tags": []
      },
      "source": [
        "Como pontuações mais baixas implicam em comprometimento, observamos que a maioria dos pacientes diagnosticados tem ADL mais baixas e vice-versa para os pacientes que não são diagnosticados."
      ]
    },
    {
      "cell_type": "markdown",
      "id": "60df9818",
      "metadata": {
        "id": "60df9818",
        "papermill": {
          "duration": 0.03765,
          "end_time": "2024-08-15T19:25:42.767385",
          "exception": false,
          "start_time": "2024-08-15T19:25:42.729735",
          "status": "completed"
        },
        "tags": []
      },
      "source": [
        "## EDA sobre Sintomas"
      ]
    },
    {
      "cell_type": "code",
      "execution_count": 57,
      "id": "919d1280",
      "metadata": {
        "execution": {
          "iopub.execute_input": "2024-08-15T19:25:42.844008Z",
          "iopub.status.busy": "2024-08-15T19:25:42.843290Z",
          "iopub.status.idle": "2024-08-15T19:25:42.854671Z",
          "shell.execute_reply": "2024-08-15T19:25:42.853812Z"
        },
        "id": "919d1280",
        "papermill": {
          "duration": 0.051347,
          "end_time": "2024-08-15T19:25:42.856853",
          "exception": false,
          "start_time": "2024-08-15T19:25:42.805506",
          "status": "completed"
        },
        "tags": []
      },
      "outputs": [
        {
          "data": {
            "text/html": [
              "<div>\n",
              "<style scoped>\n",
              "    .dataframe tbody tr th:only-of-type {\n",
              "        vertical-align: middle;\n",
              "    }\n",
              "\n",
              "    .dataframe tbody tr th {\n",
              "        vertical-align: top;\n",
              "    }\n",
              "\n",
              "    .dataframe thead th {\n",
              "        text-align: right;\n",
              "    }\n",
              "</style>\n",
              "<table border=\"1\" class=\"dataframe\">\n",
              "  <thead>\n",
              "    <tr style=\"text-align: right;\">\n",
              "      <th></th>\n",
              "      <th>Confusion</th>\n",
              "      <th>Diagnosis</th>\n",
              "    </tr>\n",
              "  </thead>\n",
              "  <tbody>\n",
              "    <tr>\n",
              "      <th>0</th>\n",
              "      <td>0</td>\n",
              "      <td>0.358314</td>\n",
              "    </tr>\n",
              "    <tr>\n",
              "      <th>1</th>\n",
              "      <td>1</td>\n",
              "      <td>0.335601</td>\n",
              "    </tr>\n",
              "  </tbody>\n",
              "</table>\n",
              "</div>"
            ],
            "text/plain": [
              "   Confusion  Diagnosis\n",
              "0          0   0.358314\n",
              "1          1   0.335601"
            ]
          },
          "execution_count": 57,
          "metadata": {},
          "output_type": "execute_result"
        }
      ],
      "source": [
        "df.groupby('Confusion')['Diagnosis'].mean().reset_index()"
      ]
    },
    {
      "cell_type": "code",
      "execution_count": 58,
      "id": "ca68e823",
      "metadata": {
        "execution": {
          "iopub.execute_input": "2024-08-15T19:25:42.932624Z",
          "iopub.status.busy": "2024-08-15T19:25:42.931943Z",
          "iopub.status.idle": "2024-08-15T19:25:42.942809Z",
          "shell.execute_reply": "2024-08-15T19:25:42.941899Z"
        },
        "id": "ca68e823",
        "papermill": {
          "duration": 0.051122,
          "end_time": "2024-08-15T19:25:42.945020",
          "exception": false,
          "start_time": "2024-08-15T19:25:42.893898",
          "status": "completed"
        },
        "tags": []
      },
      "outputs": [
        {
          "data": {
            "text/html": [
              "<div>\n",
              "<style scoped>\n",
              "    .dataframe tbody tr th:only-of-type {\n",
              "        vertical-align: middle;\n",
              "    }\n",
              "\n",
              "    .dataframe tbody tr th {\n",
              "        vertical-align: top;\n",
              "    }\n",
              "\n",
              "    .dataframe thead th {\n",
              "        text-align: right;\n",
              "    }\n",
              "</style>\n",
              "<table border=\"1\" class=\"dataframe\">\n",
              "  <thead>\n",
              "    <tr style=\"text-align: right;\">\n",
              "      <th></th>\n",
              "      <th>Disorientation</th>\n",
              "      <th>Diagnosis</th>\n",
              "    </tr>\n",
              "  </thead>\n",
              "  <tbody>\n",
              "    <tr>\n",
              "      <th>0</th>\n",
              "      <td>0</td>\n",
              "      <td>0.358762</td>\n",
              "    </tr>\n",
              "    <tr>\n",
              "      <th>1</th>\n",
              "      <td>1</td>\n",
              "      <td>0.326471</td>\n",
              "    </tr>\n",
              "  </tbody>\n",
              "</table>\n",
              "</div>"
            ],
            "text/plain": [
              "   Disorientation  Diagnosis\n",
              "0               0   0.358762\n",
              "1               1   0.326471"
            ]
          },
          "execution_count": 58,
          "metadata": {},
          "output_type": "execute_result"
        }
      ],
      "source": [
        "df.groupby('Disorientation')['Diagnosis'].mean().reset_index()"
      ]
    },
    {
      "cell_type": "code",
      "execution_count": 59,
      "id": "73064f0f",
      "metadata": {
        "execution": {
          "iopub.execute_input": "2024-08-15T19:25:43.021821Z",
          "iopub.status.busy": "2024-08-15T19:25:43.020779Z",
          "iopub.status.idle": "2024-08-15T19:25:43.032416Z",
          "shell.execute_reply": "2024-08-15T19:25:43.031393Z"
        },
        "id": "73064f0f",
        "papermill": {
          "duration": 0.052146,
          "end_time": "2024-08-15T19:25:43.034489",
          "exception": false,
          "start_time": "2024-08-15T19:25:42.982343",
          "status": "completed"
        },
        "tags": []
      },
      "outputs": [
        {
          "data": {
            "text/html": [
              "<div>\n",
              "<style scoped>\n",
              "    .dataframe tbody tr th:only-of-type {\n",
              "        vertical-align: middle;\n",
              "    }\n",
              "\n",
              "    .dataframe tbody tr th {\n",
              "        vertical-align: top;\n",
              "    }\n",
              "\n",
              "    .dataframe thead th {\n",
              "        text-align: right;\n",
              "    }\n",
              "</style>\n",
              "<table border=\"1\" class=\"dataframe\">\n",
              "  <thead>\n",
              "    <tr style=\"text-align: right;\">\n",
              "      <th></th>\n",
              "      <th>PersonalityChanges</th>\n",
              "      <th>Diagnosis</th>\n",
              "    </tr>\n",
              "  </thead>\n",
              "  <tbody>\n",
              "    <tr>\n",
              "      <th>0</th>\n",
              "      <td>0</td>\n",
              "      <td>0.357808</td>\n",
              "    </tr>\n",
              "    <tr>\n",
              "      <th>1</th>\n",
              "      <td>1</td>\n",
              "      <td>0.330247</td>\n",
              "    </tr>\n",
              "  </tbody>\n",
              "</table>\n",
              "</div>"
            ],
            "text/plain": [
              "   PersonalityChanges  Diagnosis\n",
              "0                   0   0.357808\n",
              "1                   1   0.330247"
            ]
          },
          "execution_count": 59,
          "metadata": {},
          "output_type": "execute_result"
        }
      ],
      "source": [
        "df.groupby('PersonalityChanges')['Diagnosis'].mean().reset_index()"
      ]
    },
    {
      "cell_type": "code",
      "execution_count": 60,
      "id": "a379edcc",
      "metadata": {
        "execution": {
          "iopub.execute_input": "2024-08-15T19:25:43.113989Z",
          "iopub.status.busy": "2024-08-15T19:25:43.112864Z",
          "iopub.status.idle": "2024-08-15T19:25:43.124607Z",
          "shell.execute_reply": "2024-08-15T19:25:43.123681Z"
        },
        "id": "a379edcc",
        "papermill": {
          "duration": 0.053185,
          "end_time": "2024-08-15T19:25:43.126556",
          "exception": false,
          "start_time": "2024-08-15T19:25:43.073371",
          "status": "completed"
        },
        "tags": []
      },
      "outputs": [
        {
          "data": {
            "text/html": [
              "<div>\n",
              "<style scoped>\n",
              "    .dataframe tbody tr th:only-of-type {\n",
              "        vertical-align: middle;\n",
              "    }\n",
              "\n",
              "    .dataframe tbody tr th {\n",
              "        vertical-align: top;\n",
              "    }\n",
              "\n",
              "    .dataframe thead th {\n",
              "        text-align: right;\n",
              "    }\n",
              "</style>\n",
              "<table border=\"1\" class=\"dataframe\">\n",
              "  <thead>\n",
              "    <tr style=\"text-align: right;\">\n",
              "      <th></th>\n",
              "      <th>DifficultyCompletingTasks</th>\n",
              "      <th>Diagnosis</th>\n",
              "    </tr>\n",
              "  </thead>\n",
              "  <tbody>\n",
              "    <tr>\n",
              "      <th>0</th>\n",
              "      <td>0</td>\n",
              "      <td>0.351770</td>\n",
              "    </tr>\n",
              "    <tr>\n",
              "      <th>1</th>\n",
              "      <td>1</td>\n",
              "      <td>0.363636</td>\n",
              "    </tr>\n",
              "  </tbody>\n",
              "</table>\n",
              "</div>"
            ],
            "text/plain": [
              "   DifficultyCompletingTasks  Diagnosis\n",
              "0                          0   0.351770\n",
              "1                          1   0.363636"
            ]
          },
          "execution_count": 60,
          "metadata": {},
          "output_type": "execute_result"
        }
      ],
      "source": [
        "df.groupby('DifficultyCompletingTasks')['Diagnosis'].mean().reset_index()"
      ]
    },
    {
      "cell_type": "code",
      "execution_count": 61,
      "id": "9e0e65ba",
      "metadata": {
        "execution": {
          "iopub.execute_input": "2024-08-15T19:25:43.207661Z",
          "iopub.status.busy": "2024-08-15T19:25:43.206757Z",
          "iopub.status.idle": "2024-08-15T19:25:43.217629Z",
          "shell.execute_reply": "2024-08-15T19:25:43.216716Z"
        },
        "id": "9e0e65ba",
        "papermill": {
          "duration": 0.054154,
          "end_time": "2024-08-15T19:25:43.219815",
          "exception": false,
          "start_time": "2024-08-15T19:25:43.165661",
          "status": "completed"
        },
        "tags": []
      },
      "outputs": [
        {
          "data": {
            "text/html": [
              "<div>\n",
              "<style scoped>\n",
              "    .dataframe tbody tr th:only-of-type {\n",
              "        vertical-align: middle;\n",
              "    }\n",
              "\n",
              "    .dataframe tbody tr th {\n",
              "        vertical-align: top;\n",
              "    }\n",
              "\n",
              "    .dataframe thead th {\n",
              "        text-align: right;\n",
              "    }\n",
              "</style>\n",
              "<table border=\"1\" class=\"dataframe\">\n",
              "  <thead>\n",
              "    <tr style=\"text-align: right;\">\n",
              "      <th></th>\n",
              "      <th>Forgetfulness</th>\n",
              "      <th>Diagnosis</th>\n",
              "    </tr>\n",
              "  </thead>\n",
              "  <tbody>\n",
              "    <tr>\n",
              "      <th>0</th>\n",
              "      <td>0</td>\n",
              "      <td>0.353764</td>\n",
              "    </tr>\n",
              "    <tr>\n",
              "      <th>1</th>\n",
              "      <td>1</td>\n",
              "      <td>0.353395</td>\n",
              "    </tr>\n",
              "  </tbody>\n",
              "</table>\n",
              "</div>"
            ],
            "text/plain": [
              "   Forgetfulness  Diagnosis\n",
              "0              0   0.353764\n",
              "1              1   0.353395"
            ]
          },
          "execution_count": 61,
          "metadata": {},
          "output_type": "execute_result"
        }
      ],
      "source": [
        "df.groupby('Forgetfulness')['Diagnosis'].mean().reset_index()"
      ]
    },
    {
      "cell_type": "markdown",
      "id": "d9a52b8b",
      "metadata": {
        "id": "d9a52b8b",
        "papermill": {
          "duration": 0.037614,
          "end_time": "2024-08-15T19:25:43.295132",
          "exception": false,
          "start_time": "2024-08-15T19:25:43.257518",
          "status": "completed"
        },
        "tags": []
      },
      "source": [
        "Observamos que essas características não têm relação significativa com o diagnóstico, pois a porcentagem em ambos os casos é quase a mesma."
      ]
    },
    {
      "cell_type": "markdown",
      "id": "cf55c6bc",
      "metadata": {
        "id": "cf55c6bc",
        "papermill": {
          "duration": 0.037347,
          "end_time": "2024-08-15T19:25:43.370386",
          "exception": false,
          "start_time": "2024-08-15T19:25:43.333039",
          "status": "completed"
        },
        "tags": []
      },
      "source": [
        "#### Criando uma matriz de correlação e Análise Adicional"
      ]
    },
    {
      "cell_type": "markdown",
      "id": "ce03b6d2",
      "metadata": {
        "id": "ce03b6d2",
        "papermill": {
          "duration": 0.041682,
          "end_time": "2024-08-15T19:25:43.453586",
          "exception": false,
          "start_time": "2024-08-15T19:25:43.411904",
          "status": "completed"
        },
        "tags": []
      },
      "source": [
        "Descubra maneiras de escolher características para modelos de classificação (correlações) e criar modelos e avaliações."
      ]
    },
    {
      "cell_type": "code",
      "execution_count": 62,
      "id": "c03a2f2a",
      "metadata": {
        "execution": {
          "iopub.execute_input": "2024-08-15T19:25:43.533194Z",
          "iopub.status.busy": "2024-08-15T19:25:43.532602Z",
          "iopub.status.idle": "2024-08-15T19:25:43.547108Z",
          "shell.execute_reply": "2024-08-15T19:25:43.545899Z"
        },
        "id": "c03a2f2a",
        "papermill": {
          "duration": 0.055418,
          "end_time": "2024-08-15T19:25:43.549223",
          "exception": false,
          "start_time": "2024-08-15T19:25:43.493805",
          "status": "completed"
        },
        "tags": []
      },
      "outputs": [
        {
          "name": "stdout",
          "output_type": "stream",
          "text": [
            "<class 'pandas.core.frame.DataFrame'>\n",
            "RangeIndex: 2149 entries, 0 to 2148\n",
            "Data columns (total 35 columns):\n",
            " #   Column                     Non-Null Count  Dtype   \n",
            "---  ------                     --------------  -----   \n",
            " 0   Age                        2149 non-null   int64   \n",
            " 1   Gender                     2149 non-null   int64   \n",
            " 2   Ethnicity                  2149 non-null   int64   \n",
            " 3   EducationLevel             2149 non-null   int64   \n",
            " 4   BMI                        2149 non-null   float64 \n",
            " 5   Smoking                    2149 non-null   int64   \n",
            " 6   AlcoholConsumption         2149 non-null   float64 \n",
            " 7   PhysicalActivity           2149 non-null   float64 \n",
            " 8   DietQuality                2149 non-null   float64 \n",
            " 9   SleepQuality               2149 non-null   float64 \n",
            " 10  FamilyHistoryAlzheimers    2149 non-null   int64   \n",
            " 11  CardiovascularDisease      2149 non-null   int64   \n",
            " 12  Diabetes                   2149 non-null   int64   \n",
            " 13  Depression                 2149 non-null   int64   \n",
            " 14  HeadInjury                 2149 non-null   int64   \n",
            " 15  Hypertension               2149 non-null   int64   \n",
            " 16  SystolicBP                 2149 non-null   int64   \n",
            " 17  DiastolicBP                2149 non-null   int64   \n",
            " 18  CholesterolTotal           2149 non-null   float64 \n",
            " 19  CholesterolLDL             2149 non-null   float64 \n",
            " 20  CholesterolHDL             2149 non-null   float64 \n",
            " 21  CholesterolTriglycerides   2149 non-null   float64 \n",
            " 22  MMSE                       2149 non-null   float64 \n",
            " 23  FunctionalAssessment       2149 non-null   float64 \n",
            " 24  MemoryComplaints           2149 non-null   int64   \n",
            " 25  BehavioralProblems         2149 non-null   int64   \n",
            " 26  ADL                        2149 non-null   float64 \n",
            " 27  Confusion                  2149 non-null   int64   \n",
            " 28  Disorientation             2149 non-null   int64   \n",
            " 29  PersonalityChanges         2149 non-null   int64   \n",
            " 30  DifficultyCompletingTasks  2149 non-null   int64   \n",
            " 31  Forgetfulness              2149 non-null   int64   \n",
            " 32  Diagnosis                  2149 non-null   int64   \n",
            " 33  Age_bin                    2149 non-null   category\n",
            " 34  BMI_category               2149 non-null   category\n",
            "dtypes: category(2), float64(12), int64(21)\n",
            "memory usage: 558.8 KB\n"
          ]
        }
      ],
      "source": [
        "df.info()"
      ]
    },
    {
      "cell_type": "code",
      "execution_count": 63,
      "id": "e5dc913c",
      "metadata": {
        "execution": {
          "iopub.execute_input": "2024-08-15T19:25:43.625681Z",
          "iopub.status.busy": "2024-08-15T19:25:43.625304Z",
          "iopub.status.idle": "2024-08-15T19:25:44.197767Z",
          "shell.execute_reply": "2024-08-15T19:25:44.196809Z"
        },
        "id": "e5dc913c",
        "papermill": {
          "duration": 0.614662,
          "end_time": "2024-08-15T19:25:44.200989",
          "exception": false,
          "start_time": "2024-08-15T19:25:43.586327",
          "status": "completed"
        },
        "tags": []
      },
      "outputs": [
        {
          "data": {
            "image/png": "[encoded data removed]",
            "text/plain": [
              "<Figure size 2000x700 with 1 Axes>"
            ]
          },
          "metadata": {},
          "output_type": "display_data"
        }
      ],
      "source": [
        "# Compute Pearson correlation coefficients\n",
        "correlations = df.corr(numeric_only=True)['Diagnosis'][:-1].sort_values()\n",
        "\n",
        "# Set the size of the figure\n",
        "plt.figure(figsize=(20, 7))\n",
        "\n",
        "# Create a bar plot of the Pearson correlation coefficients\n",
        "ax = correlations.plot(kind='bar', width=0.7)\n",
        "\n",
        "# Set the y-axis limits and labels\n",
        "ax.set(ylim=[-1, 1], ylabel='Pearson Correlation', xlabel='Features',\n",
        "       title='Pearson Correlation with Diagnosis')\n",
        "\n",
        "# Rotate x-axis labels for better readability\n",
        "ax.set_xticklabels(correlations.index, rotation=45, ha='right')\n",
        "\n",
        "plt.tight_layout()\n",
        "plt.show()"
      ]
    },
    {
      "cell_type": "markdown",
      "id": "c8418430",
      "metadata": {
        "id": "c8418430",
        "papermill": {
          "duration": 0.041076,
          "end_time": "2024-08-15T19:25:44.282721",
          "exception": false,
          "start_time": "2024-08-15T19:25:44.241645",
          "status": "completed"
        },
        "tags": []
      },
      "source": [
        "Como as seguintes características:\n",
        "\n",
        "***['FunctionalAssessment', 'ADL', 'MMSE', 'BehavioralProblems', 'MemoryComplaints']***\n",
        "\n",
        " têm correlação significativa apenas com o Diagnóstico, consideraremos apenas essas características."
      ]
    },
    {
      "cell_type": "code",
      "execution_count": 64,
      "id": "8200c268",
      "metadata": {
        "execution": {
          "iopub.execute_input": "2024-08-15T19:25:44.367164Z",
          "iopub.status.busy": "2024-08-15T19:25:44.366516Z",
          "iopub.status.idle": "2024-08-15T19:25:44.371336Z",
          "shell.execute_reply": "2024-08-15T19:25:44.370344Z"
        },
        "id": "8200c268",
        "papermill": {
          "duration": 0.049311,
          "end_time": "2024-08-15T19:25:44.373678",
          "exception": false,
          "start_time": "2024-08-15T19:25:44.324367",
          "status": "completed"
        },
        "tags": []
      },
      "outputs": [],
      "source": [
        "FEATURES = ['MMSE','FunctionalAssessment','MemoryComplaints','BehavioralProblems','ADL']\n",
        "TARGET = ['Diagnosis']"
      ]
    },
    {
      "cell_type": "code",
      "execution_count": 65,
      "id": "649ed91f",
      "metadata": {
        "execution": {
          "iopub.execute_input": "2024-08-15T19:25:44.458340Z",
          "iopub.status.busy": "2024-08-15T19:25:44.457589Z",
          "iopub.status.idle": "2024-08-15T19:25:44.462977Z",
          "shell.execute_reply": "2024-08-15T19:25:44.462103Z"
        },
        "id": "649ed91f",
        "papermill": {
          "duration": 0.049468,
          "end_time": "2024-08-15T19:25:44.465034",
          "exception": false,
          "start_time": "2024-08-15T19:25:44.415566",
          "status": "completed"
        },
        "tags": []
      },
      "outputs": [],
      "source": [
        "req_df = df[FEATURES+TARGET]"
      ]
    },
    {
      "cell_type": "code",
      "execution_count": 66,
      "id": "d0f1a957",
      "metadata": {
        "execution": {
          "iopub.execute_input": "2024-08-15T19:25:44.546518Z",
          "iopub.status.busy": "2024-08-15T19:25:44.546196Z",
          "iopub.status.idle": "2024-08-15T19:25:44.556887Z",
          "shell.execute_reply": "2024-08-15T19:25:44.555934Z"
        },
        "id": "d0f1a957",
        "papermill": {
          "duration": 0.05527,
          "end_time": "2024-08-15T19:25:44.559504",
          "exception": false,
          "start_time": "2024-08-15T19:25:44.504234",
          "status": "completed"
        },
        "tags": []
      },
      "outputs": [
        {
          "name": "stdout",
          "output_type": "stream",
          "text": [
            "<class 'pandas.core.frame.DataFrame'>\n",
            "RangeIndex: 2149 entries, 0 to 2148\n",
            "Data columns (total 6 columns):\n",
            " #   Column                Non-Null Count  Dtype  \n",
            "---  ------                --------------  -----  \n",
            " 0   MMSE                  2149 non-null   float64\n",
            " 1   FunctionalAssessment  2149 non-null   float64\n",
            " 2   MemoryComplaints      2149 non-null   int64  \n",
            " 3   BehavioralProblems    2149 non-null   int64  \n",
            " 4   ADL                   2149 non-null   float64\n",
            " 5   Diagnosis             2149 non-null   int64  \n",
            "dtypes: float64(3), int64(3)\n",
            "memory usage: 100.9 KB\n"
          ]
        }
      ],
      "source": [
        "req_df.info()"
      ]
    },
    {
      "cell_type": "code",
      "execution_count": 67,
      "id": "8e3d475c",
      "metadata": {
        "execution": {
          "iopub.execute_input": "2024-08-15T19:25:44.645197Z",
          "iopub.status.busy": "2024-08-15T19:25:44.644333Z",
          "iopub.status.idle": "2024-08-15T19:25:44.657412Z",
          "shell.execute_reply": "2024-08-15T19:25:44.656432Z"
        },
        "id": "8e3d475c",
        "papermill": {
          "duration": 0.058235,
          "end_time": "2024-08-15T19:25:44.659649",
          "exception": false,
          "start_time": "2024-08-15T19:25:44.601414",
          "status": "completed"
        },
        "tags": []
      },
      "outputs": [
        {
          "data": {
            "text/html": [
              "<div>\n",
              "<style scoped>\n",
              "    .dataframe tbody tr th:only-of-type {\n",
              "        vertical-align: middle;\n",
              "    }\n",
              "\n",
              "    .dataframe tbody tr th {\n",
              "        vertical-align: top;\n",
              "    }\n",
              "\n",
              "    .dataframe thead th {\n",
              "        text-align: right;\n",
              "    }\n",
              "</style>\n",
              "<table border=\"1\" class=\"dataframe\">\n",
              "  <thead>\n",
              "    <tr style=\"text-align: right;\">\n",
              "      <th></th>\n",
              "      <th>MMSE</th>\n",
              "      <th>FunctionalAssessment</th>\n",
              "      <th>MemoryComplaints</th>\n",
              "      <th>BehavioralProblems</th>\n",
              "      <th>ADL</th>\n",
              "      <th>Diagnosis</th>\n",
              "    </tr>\n",
              "  </thead>\n",
              "  <tbody>\n",
              "    <tr>\n",
              "      <th>0</th>\n",
              "      <td>21.463532</td>\n",
              "      <td>6.518877</td>\n",
              "      <td>0</td>\n",
              "      <td>0</td>\n",
              "      <td>1.725883</td>\n",
              "      <td>0</td>\n",
              "    </tr>\n",
              "    <tr>\n",
              "      <th>1</th>\n",
              "      <td>20.613267</td>\n",
              "      <td>7.118696</td>\n",
              "      <td>0</td>\n",
              "      <td>0</td>\n",
              "      <td>2.592424</td>\n",
              "      <td>0</td>\n",
              "    </tr>\n",
              "    <tr>\n",
              "      <th>2</th>\n",
              "      <td>7.356249</td>\n",
              "      <td>5.895077</td>\n",
              "      <td>0</td>\n",
              "      <td>0</td>\n",
              "      <td>7.119548</td>\n",
              "      <td>0</td>\n",
              "    </tr>\n",
              "    <tr>\n",
              "      <th>3</th>\n",
              "      <td>13.991127</td>\n",
              "      <td>8.965106</td>\n",
              "      <td>0</td>\n",
              "      <td>1</td>\n",
              "      <td>6.481226</td>\n",
              "      <td>0</td>\n",
              "    </tr>\n",
              "    <tr>\n",
              "      <th>4</th>\n",
              "      <td>13.517609</td>\n",
              "      <td>6.045039</td>\n",
              "      <td>0</td>\n",
              "      <td>0</td>\n",
              "      <td>0.014691</td>\n",
              "      <td>0</td>\n",
              "    </tr>\n",
              "  </tbody>\n",
              "</table>\n",
              "</div>"
            ],
            "text/plain": [
              "        MMSE  FunctionalAssessment  MemoryComplaints  BehavioralProblems  \\\n",
              "0  21.463532              6.518877                 0                   0   \n",
              "1  20.613267              7.118696                 0                   0   \n",
              "2   7.356249              5.895077                 0                   0   \n",
              "3  13.991127              8.965106                 0                   1   \n",
              "4  13.517609              6.045039                 0                   0   \n",
              "\n",
              "        ADL  Diagnosis  \n",
              "0  1.725883          0  \n",
              "1  2.592424          0  \n",
              "2  7.119548          0  \n",
              "3  6.481226          0  \n",
              "4  0.014691          0  "
            ]
          },
          "execution_count": 67,
          "metadata": {},
          "output_type": "execute_result"
        }
      ],
      "source": [
        "req_df.head()"
      ]
    },
    {
      "cell_type": "code",
      "execution_count": 68,
      "id": "5d3e9e88",
      "metadata": {
        "execution": {
          "iopub.execute_input": "2024-08-15T19:25:44.747248Z",
          "iopub.status.busy": "2024-08-15T19:25:44.746477Z",
          "iopub.status.idle": "2024-08-15T19:25:44.979357Z",
          "shell.execute_reply": "2024-08-15T19:25:44.978318Z"
        },
        "id": "5d3e9e88",
        "papermill": {
          "duration": 0.279429,
          "end_time": "2024-08-15T19:25:44.981884",
          "exception": false,
          "start_time": "2024-08-15T19:25:44.702455",
          "status": "completed"
        },
        "tags": []
      },
      "outputs": [],
      "source": [
        "from sklearn.model_selection import train_test_split\n",
        "X = df[FEATURES]\n",
        "y = df[TARGET]\n",
        "y = y.values.ravel()\n",
        "X_train, X_test, y_train, y_test = train_test_split(X, y, test_size = 0.25, random_state = 42, shuffle = True)\n",
        "\n"
      ]
    },
    {
      "cell_type": "markdown",
      "id": "fd186b94",
      "metadata": {
        "id": "fd186b94",
        "papermill": {
          "duration": 0.047755,
          "end_time": "2024-08-15T19:25:45.072399",
          "exception": false,
          "start_time": "2024-08-15T19:25:45.024644",
          "status": "completed"
        },
        "tags": []
      },
      "source": [
        "## Treinando Diferentes Modelos"
      ]
    },
    {
      "cell_type": "markdown",
      "id": "e71c3303",
      "metadata": {
        "id": "e71c3303",
        "papermill": {
          "duration": 0.041019,
          "end_time": "2024-08-15T19:25:45.167738",
          "exception": false,
          "start_time": "2024-08-15T19:25:45.126719",
          "status": "completed"
        },
        "tags": []
      },
      "source": [
        "Vários modelos serão usados para treinar o modelo e usaremos métricas apropriadas para resolver nosso problema.\n",
        "\n",
        "Como neste problema, não queremos errar na classificação de pacientes diagnosticados, ou seja, queremos ***reduzir nossos falsos negativos*** o máximo possível. Vamos focar em aumentar a ***Precisão*** do nosso modelo."
      ]
    },
    {
      "cell_type": "markdown",
      "id": "7f03440c",
      "metadata": {
        "id": "7f03440c",
        "papermill": {
          "duration": 0.042343,
          "end_time": "2024-08-15T19:25:45.251734",
          "exception": false,
          "start_time": "2024-08-15T19:25:45.209391",
          "status": "completed"
        },
        "tags": []
      },
      "source": [
        "### 1. **Logistic Regression**"
      ]
    },
    {
      "cell_type": "code",
      "execution_count": 69,
      "id": "de459c96",
      "metadata": {
        "execution": {
          "iopub.execute_input": "2024-08-15T19:25:45.340610Z",
          "iopub.status.busy": "2024-08-15T19:25:45.339706Z",
          "iopub.status.idle": "2024-08-15T19:25:45.628104Z",
          "shell.execute_reply": "2024-08-15T19:25:45.627048Z"
        },
        "id": "de459c96",
        "papermill": {
          "duration": 0.33609,
          "end_time": "2024-08-15T19:25:45.630628",
          "exception": false,
          "start_time": "2024-08-15T19:25:45.294538",
          "status": "completed"
        },
        "tags": []
      },
      "outputs": [
        {
          "name": "stdout",
          "output_type": "stream",
          "text": [
            "{'C': 0.1}\n",
            "              precision    recall  f1-score   support\n",
            "\n",
            "           0       0.82      0.93      0.87       342\n",
            "           1       0.85      0.65      0.73       196\n",
            "\n",
            "    accuracy                           0.83       538\n",
            "   macro avg       0.83      0.79      0.80       538\n",
            "weighted avg       0.83      0.83      0.82       538\n",
            "\n"
          ]
        }
      ],
      "source": [
        "from sklearn.linear_model import LogisticRegression\n",
        "from sklearn.model_selection import GridSearchCV\n",
        "from sklearn.metrics import classification_report\n",
        "model = LogisticRegression(solver = 'liblinear',random_state = 0)\n",
        "param_grid = {'C' : [0.1,0.5,1,10]}\n",
        "\n",
        "grid_search = GridSearchCV(model,param_grid,cv = 5, scoring = 'precision')\n",
        "grid_search.fit(X_train,y_train)\n",
        "best_model = grid_search.best_estimator_\n",
        "y_pred = best_model.predict(X_test)\n",
        "report = classification_report(y_test, y_pred)\n",
        "print(grid_search.best_params_)\n",
        "print(report)"
      ]
    },
    {
      "cell_type": "markdown",
      "id": "8746c236",
      "metadata": {
        "id": "8746c236",
        "papermill": {
          "duration": 0.040243,
          "end_time": "2024-08-15T19:25:45.713730",
          "exception": false,
          "start_time": "2024-08-15T19:25:45.673487",
          "status": "completed"
        },
        "tags": []
      },
      "source": [
        "### 2. Decision Tree"
      ]
    },
    {
      "cell_type": "code",
      "execution_count": 70,
      "id": "d99f6f35",
      "metadata": {
        "execution": {
          "iopub.execute_input": "2024-08-15T19:25:45.798782Z",
          "iopub.status.busy": "2024-08-15T19:25:45.797930Z",
          "iopub.status.idle": "2024-08-15T19:25:46.036449Z",
          "shell.execute_reply": "2024-08-15T19:25:46.035389Z"
        },
        "id": "d99f6f35",
        "papermill": {
          "duration": 0.284084,
          "end_time": "2024-08-15T19:25:46.038690",
          "exception": false,
          "start_time": "2024-08-15T19:25:45.754606",
          "status": "completed"
        },
        "tags": []
      },
      "outputs": [
        {
          "name": "stdout",
          "output_type": "stream",
          "text": [
            "{'max_depth': 5}\n",
            "              precision    recall  f1-score   support\n",
            "\n",
            "           0       0.92      0.97      0.95       342\n",
            "           1       0.95      0.86      0.90       196\n",
            "\n",
            "    accuracy                           0.93       538\n",
            "   macro avg       0.94      0.92      0.92       538\n",
            "weighted avg       0.93      0.93      0.93       538\n",
            "\n"
          ]
        }
      ],
      "source": [
        "from sklearn.tree import DecisionTreeClassifier\n",
        "model = DecisionTreeClassifier()\n",
        "paramgrid = {'max_depth' : [2,3,4,5]}\n",
        "\n",
        "grid_search = GridSearchCV(model,paramgrid,cv = 5, scoring = 'precision')\n",
        "grid_search.fit(X_train,y_train)\n",
        "best_model = grid_search.best_estimator_\n",
        "y_pred = best_model.predict(X_test)\n",
        "report = classification_report(y_test, y_pred)\n",
        "print(grid_search.best_params_)\n",
        "print(report)"
      ]
    },
    {
      "cell_type": "markdown",
      "id": "783203af",
      "metadata": {
        "id": "783203af",
        "papermill": {
          "duration": 0.039823,
          "end_time": "2024-08-15T19:25:46.121719",
          "exception": false,
          "start_time": "2024-08-15T19:25:46.081896",
          "status": "completed"
        },
        "tags": []
      },
      "source": [
        "### 3. Random Forest"
      ]
    },
    {
      "cell_type": "code",
      "execution_count": 71,
      "id": "6bd5f4f3",
      "metadata": {
        "execution": {
          "iopub.execute_input": "2024-08-15T19:25:46.203908Z",
          "iopub.status.busy": "2024-08-15T19:25:46.203530Z",
          "iopub.status.idle": "2024-08-15T19:25:54.320071Z",
          "shell.execute_reply": "2024-08-15T19:25:54.319056Z"
        },
        "id": "6bd5f4f3",
        "papermill": {
          "duration": 8.161163,
          "end_time": "2024-08-15T19:25:54.322921",
          "exception": false,
          "start_time": "2024-08-15T19:25:46.161758",
          "status": "completed"
        },
        "tags": []
      },
      "outputs": [
        {
          "name": "stdout",
          "output_type": "stream",
          "text": [
            "{'n_estimators': 150}\n",
            "              precision    recall  f1-score   support\n",
            "\n",
            "           0       0.94      0.98      0.96       342\n",
            "           1       0.96      0.89      0.92       196\n",
            "\n",
            "    accuracy                           0.95       538\n",
            "   macro avg       0.95      0.93      0.94       538\n",
            "weighted avg       0.95      0.95      0.95       538\n",
            "\n"
          ]
        }
      ],
      "source": [
        "from sklearn.ensemble import RandomForestClassifier\n",
        "model = RandomForestClassifier(max_features = 4,random_state = 0,max_samples = 0.7,max_depth = 4)\n",
        "paramgrid = {'n_estimators' : [50,100,150,200]}\n",
        "grid_search = GridSearchCV(model,paramgrid,cv = 5, scoring = 'precision')\n",
        "grid_search.fit(X_train,y_train)\n",
        "best_model = grid_search.best_estimator_\n",
        "y_pred = best_model.predict(X_test)\n",
        "report = classification_report(y_test, y_pred)\n",
        "print(grid_search.best_params_)\n",
        "print(report)"
      ]
    },
    {
      "cell_type": "markdown",
      "id": "2f5ec2a4",
      "metadata": {
        "id": "2f5ec2a4",
        "papermill": {
          "duration": 0.039897,
          "end_time": "2024-08-15T19:25:54.406560",
          "exception": false,
          "start_time": "2024-08-15T19:25:54.366663",
          "status": "completed"
        },
        "tags": []
      },
      "source": [
        "### 4. Gradient Boost"
      ]
    },
    {
      "cell_type": "code",
      "execution_count": 72,
      "id": "1c634263",
      "metadata": {
        "execution": {
          "iopub.execute_input": "2024-08-15T19:25:54.492492Z",
          "iopub.status.busy": "2024-08-15T19:25:54.492090Z",
          "iopub.status.idle": "2024-08-15T19:27:36.615520Z",
          "shell.execute_reply": "2024-08-15T19:27:36.614709Z"
        },
        "id": "1c634263",
        "papermill": {
          "duration": 102.212689,
          "end_time": "2024-08-15T19:27:36.661246",
          "exception": false,
          "start_time": "2024-08-15T19:25:54.448557",
          "status": "completed"
        },
        "tags": []
      },
      "outputs": [
        {
          "name": "stdout",
          "output_type": "stream",
          "text": [
            "{'max_depth': 4, 'n_estimators': 75, 'subsample': 0.8}\n",
            "              precision    recall  f1-score   support\n",
            "\n",
            "           0       0.95      0.98      0.96       342\n",
            "           1       0.96      0.91      0.93       196\n",
            "\n",
            "    accuracy                           0.95       538\n",
            "   macro avg       0.95      0.94      0.95       538\n",
            "weighted avg       0.95      0.95      0.95       538\n",
            "\n"
          ]
        }
      ],
      "source": [
        "from sklearn.ensemble import GradientBoostingClassifier\n",
        "model = GradientBoostingClassifier(random_state = 0)\n",
        "paramgrid = {'n_estimators' : [50,75,100,150,200],'max_depth' : [3,4,5],'subsample' : [0.75,0.8,0.9,1.0]}\n",
        "grid_search = GridSearchCV(model,paramgrid,cv = 5, scoring = 'precision')\n",
        "grid_search.fit(X_train,y_train)\n",
        "best_model = grid_search.best_estimator_\n",
        "y_pred = best_model.predict(X_test)\n",
        "report = classification_report(y_test, y_pred)\n",
        "print(grid_search.best_params_)\n",
        "print(report)\n"
      ]
    },
    {
      "cell_type": "markdown",
      "id": "3d35d430",
      "metadata": {
        "id": "3d35d430"
      },
      "source": [
        "#### Conclusão: O melhor modelo é o Gradient Boosting Classifier e usar o GridSearch realmente ajuda a encontrar os melhores hiperparâmetros para a classificação."
      ]
    },
    {
      "cell_type": "code",
      "execution_count": null,
      "id": "4QKlxb-St_4f",
      "metadata": {
        "id": "4QKlxb-St_4f"
      },
      "outputs": [],
      "source": [
        "#pip install tensorflow"
      ]
    },
    {
      "cell_type": "code",
      "execution_count": 73,
      "id": "4LvChcrtuEta",
      "metadata": {
        "id": "4LvChcrtuEta"
      },
      "outputs": [],
      "source": [
        "import tensorflow as tf\n",
        "from tensorflow.keras.models import Sequential\n",
        "from tensorflow.keras.layers import Dense, Dropout\n",
        "from tensorflow.keras.callbacks import EarlyStopping\n",
        "from sklearn.preprocessing import StandardScaler"
      ]
    },
    {
      "cell_type": "code",
      "execution_count": 74,
      "id": "8ulS7jQwuHVz",
      "metadata": {
        "id": "8ulS7jQwuHVz"
      },
      "outputs": [],
      "source": [
        "# Normalizando os dados para melhorar o desempenho do modelo\n",
        "scaler = StandardScaler()\n",
        "X_train_scaled = scaler.fit_transform(X_train)\n",
        "X_test_scaled = scaler.transform(X_test)"
      ]
    },
    {
      "cell_type": "code",
      "execution_count": 75,
      "id": "rzKH4U8IuM45",
      "metadata": {
        "id": "rzKH4U8IuM45"
      },
      "outputs": [
        {
          "name": "stderr",
          "output_type": "stream",
          "text": [
            "c:\\Users\\João Miguel\\OneDrive\\Área de Trabalho\\Code\\Python Work\\venv_work\\Lib\\site-packages\\keras\\src\\layers\\core\\dense.py:87: UserWarning: Do not pass an `input_shape`/`input_dim` argument to a layer. When using Sequential models, prefer using an `Input(shape)` object as the first layer in the model instead.\n",
            "  super().__init__(activity_regularizer=activity_regularizer, **kwargs)\n"
          ]
        },
        {
          "name": "stdout",
          "output_type": "stream",
          "text": [
            "Epoch 1/100\n",
            "\u001b[1m51/51\u001b[0m \u001b[32m━━━━━━━━━━━━━━━━━━━━\u001b[0m\u001b[37m\u001b[0m \u001b[1m2s\u001b[0m 6ms/step - loss: 0.6885 - precision: 0.4066 - val_loss: 0.5180 - val_precision: 0.8980\n",
            "Epoch 2/100\n",
            "\u001b[1m51/51\u001b[0m \u001b[32m━━━━━━━━━━━━━━━━━━━━\u001b[0m\u001b[37m\u001b[0m \u001b[1m0s\u001b[0m 2ms/step - loss: 0.5322 - precision: 0.7369 - val_loss: 0.4316 - val_precision: 0.8165\n",
            "Epoch 3/100\n",
            "\u001b[1m51/51\u001b[0m \u001b[32m━━━━━━━━━━━━━━━━━━━━\u001b[0m\u001b[37m\u001b[0m \u001b[1m0s\u001b[0m 2ms/step - loss: 0.4528 - precision: 0.7382 - val_loss: 0.3872 - val_precision: 0.8171\n",
            "Epoch 4/100\n",
            "\u001b[1m51/51\u001b[0m \u001b[32m━━━━━━━━━━━━━━━━━━━━\u001b[0m\u001b[37m\u001b[0m \u001b[1m0s\u001b[0m 2ms/step - loss: 0.4491 - precision: 0.7807 - val_loss: 0.3679 - val_precision: 0.7914\n",
            "Epoch 5/100\n",
            "\u001b[1m51/51\u001b[0m \u001b[32m━━━━━━━━━━━━━━━━━━━━\u001b[0m\u001b[37m\u001b[0m \u001b[1m0s\u001b[0m 2ms/step - loss: 0.4205 - precision: 0.7755 - val_loss: 0.3600 - val_precision: 0.7912\n",
            "Epoch 6/100\n",
            "\u001b[1m51/51\u001b[0m \u001b[32m━━━━━━━━━━━━━━━━━━━━\u001b[0m\u001b[37m\u001b[0m \u001b[1m0s\u001b[0m 2ms/step - loss: 0.4000 - precision: 0.8215 - val_loss: 0.3533 - val_precision: 0.8142\n",
            "Epoch 7/100\n",
            "\u001b[1m51/51\u001b[0m \u001b[32m━━━━━━━━━━━━━━━━━━━━\u001b[0m\u001b[37m\u001b[0m \u001b[1m0s\u001b[0m 2ms/step - loss: 0.3722 - precision: 0.7912 - val_loss: 0.3489 - val_precision: 0.8021\n",
            "Epoch 8/100\n",
            "\u001b[1m51/51\u001b[0m \u001b[32m━━━━━━━━━━━━━━━━━━━━\u001b[0m\u001b[37m\u001b[0m \u001b[1m0s\u001b[0m 2ms/step - loss: 0.3837 - precision: 0.7956 - val_loss: 0.3477 - val_precision: 0.8073\n",
            "Epoch 9/100\n",
            "\u001b[1m51/51\u001b[0m \u001b[32m━━━━━━━━━━━━━━━━━━━━\u001b[0m\u001b[37m\u001b[0m \u001b[1m0s\u001b[0m 2ms/step - loss: 0.3891 - precision: 0.8030 - val_loss: 0.3459 - val_precision: 0.8152\n",
            "Epoch 10/100\n",
            "\u001b[1m51/51\u001b[0m \u001b[32m━━━━━━━━━━━━━━━━━━━━\u001b[0m\u001b[37m\u001b[0m \u001b[1m0s\u001b[0m 2ms/step - loss: 0.3538 - precision: 0.8385 - val_loss: 0.3449 - val_precision: 0.8226\n",
            "Epoch 11/100\n",
            "\u001b[1m51/51\u001b[0m \u001b[32m━━━━━━━━━━━━━━━━━━━━\u001b[0m\u001b[37m\u001b[0m \u001b[1m0s\u001b[0m 2ms/step - loss: 0.3469 - precision: 0.8481 - val_loss: 0.3434 - val_precision: 0.8207\n",
            "Epoch 12/100\n",
            "\u001b[1m51/51\u001b[0m \u001b[32m━━━━━━━━━━━━━━━━━━━━\u001b[0m\u001b[37m\u001b[0m \u001b[1m0s\u001b[0m 2ms/step - loss: 0.3285 - precision: 0.8647 - val_loss: 0.3421 - val_precision: 0.8352\n",
            "Epoch 13/100\n",
            "\u001b[1m51/51\u001b[0m \u001b[32m━━━━━━━━━━━━━━━━━━━━\u001b[0m\u001b[37m\u001b[0m \u001b[1m0s\u001b[0m 2ms/step - loss: 0.3333 - precision: 0.8267 - val_loss: 0.3391 - val_precision: 0.8306\n",
            "Epoch 14/100\n",
            "\u001b[1m51/51\u001b[0m \u001b[32m━━━━━━━━━━━━━━━━━━━━\u001b[0m\u001b[37m\u001b[0m \u001b[1m0s\u001b[0m 2ms/step - loss: 0.3480 - precision: 0.8470 - val_loss: 0.3390 - val_precision: 0.8506\n",
            "Epoch 15/100\n",
            "\u001b[1m51/51\u001b[0m \u001b[32m━━━━━━━━━━━━━━━━━━━━\u001b[0m\u001b[37m\u001b[0m \u001b[1m0s\u001b[0m 2ms/step - loss: 0.3436 - precision: 0.8452 - val_loss: 0.3354 - val_precision: 0.8333\n",
            "Epoch 16/100\n",
            "\u001b[1m51/51\u001b[0m \u001b[32m━━━━━━━━━━━━━━━━━━━━\u001b[0m\u001b[37m\u001b[0m \u001b[1m0s\u001b[0m 2ms/step - loss: 0.3429 - precision: 0.8503 - val_loss: 0.3349 - val_precision: 0.8427\n",
            "Epoch 17/100\n",
            "\u001b[1m51/51\u001b[0m \u001b[32m━━━━━━━━━━━━━━━━━━━━\u001b[0m\u001b[37m\u001b[0m \u001b[1m0s\u001b[0m 2ms/step - loss: 0.3154 - precision: 0.8674 - val_loss: 0.3325 - val_precision: 0.8389\n",
            "Epoch 18/100\n",
            "\u001b[1m51/51\u001b[0m \u001b[32m━━━━━━━━━━━━━━━━━━━━\u001b[0m\u001b[37m\u001b[0m \u001b[1m0s\u001b[0m 2ms/step - loss: 0.3303 - precision: 0.8515 - val_loss: 0.3311 - val_precision: 0.8389\n",
            "Epoch 19/100\n",
            "\u001b[1m51/51\u001b[0m \u001b[32m━━━━━━━━━━━━━━━━━━━━\u001b[0m\u001b[37m\u001b[0m \u001b[1m0s\u001b[0m 2ms/step - loss: 0.3544 - precision: 0.8552 - val_loss: 0.3285 - val_precision: 0.8571\n",
            "Epoch 20/100\n",
            "\u001b[1m51/51\u001b[0m \u001b[32m━━━━━━━━━━━━━━━━━━━━\u001b[0m\u001b[37m\u001b[0m \u001b[1m0s\u001b[0m 2ms/step - loss: 0.3197 - precision: 0.8369 - val_loss: 0.3281 - val_precision: 0.8639\n",
            "Epoch 21/100\n",
            "\u001b[1m51/51\u001b[0m \u001b[32m━━━━━━━━━━━━━━━━━━━━\u001b[0m\u001b[37m\u001b[0m \u001b[1m0s\u001b[0m 2ms/step - loss: 0.3696 - precision: 0.8224 - val_loss: 0.3263 - val_precision: 0.8629\n",
            "Epoch 22/100\n",
            "\u001b[1m51/51\u001b[0m \u001b[32m━━━━━━━━━━━━━━━━━━━━\u001b[0m\u001b[37m\u001b[0m \u001b[1m0s\u001b[0m 2ms/step - loss: 0.3317 - precision: 0.8424 - val_loss: 0.3246 - val_precision: 0.8492\n",
            "Epoch 23/100\n",
            "\u001b[1m51/51\u001b[0m \u001b[32m━━━━━━━━━━━━━━━━━━━━\u001b[0m\u001b[37m\u001b[0m \u001b[1m0s\u001b[0m 2ms/step - loss: 0.2970 - precision: 0.8616 - val_loss: 0.3235 - val_precision: 0.8462\n",
            "Epoch 24/100\n",
            "\u001b[1m51/51\u001b[0m \u001b[32m━━━━━━━━━━━━━━━━━━━━\u001b[0m\u001b[37m\u001b[0m \u001b[1m0s\u001b[0m 2ms/step - loss: 0.3196 - precision: 0.8438 - val_loss: 0.3226 - val_precision: 0.8547\n",
            "Epoch 25/100\n",
            "\u001b[1m51/51\u001b[0m \u001b[32m━━━━━━━━━━━━━━━━━━━━\u001b[0m\u001b[37m\u001b[0m \u001b[1m0s\u001b[0m 2ms/step - loss: 0.3366 - precision: 0.8666 - val_loss: 0.3205 - val_precision: 0.8686\n",
            "Epoch 26/100\n",
            "\u001b[1m51/51\u001b[0m \u001b[32m━━━━━━━━━━━━━━━━━━━━\u001b[0m\u001b[37m\u001b[0m \u001b[1m0s\u001b[0m 2ms/step - loss: 0.3197 - precision: 0.8506 - val_loss: 0.3193 - val_precision: 0.8556\n",
            "Epoch 27/100\n",
            "\u001b[1m51/51\u001b[0m \u001b[32m━━━━━━━━━━━━━━━━━━━━\u001b[0m\u001b[37m\u001b[0m \u001b[1m0s\u001b[0m 2ms/step - loss: 0.2955 - precision: 0.8678 - val_loss: 0.3177 - val_precision: 0.8671\n",
            "Epoch 28/100\n",
            "\u001b[1m51/51\u001b[0m \u001b[32m━━━━━━━━━━━━━━━━━━━━\u001b[0m\u001b[37m\u001b[0m \u001b[1m0s\u001b[0m 2ms/step - loss: 0.2986 - precision: 0.8719 - val_loss: 0.3144 - val_precision: 0.8728\n",
            "Epoch 29/100\n",
            "\u001b[1m51/51\u001b[0m \u001b[32m━━━━━━━━━━━━━━━━━━━━\u001b[0m\u001b[37m\u001b[0m \u001b[1m0s\u001b[0m 2ms/step - loss: 0.3243 - precision: 0.8740 - val_loss: 0.3118 - val_precision: 0.8701\n",
            "Epoch 30/100\n",
            "\u001b[1m51/51\u001b[0m \u001b[32m━━━━━━━━━━━━━━━━━━━━\u001b[0m\u001b[37m\u001b[0m \u001b[1m0s\u001b[0m 2ms/step - loss: 0.3135 - precision: 0.8728 - val_loss: 0.3088 - val_precision: 0.8659\n",
            "Epoch 31/100\n",
            "\u001b[1m51/51\u001b[0m \u001b[32m━━━━━━━━━━━━━━━━━━━━\u001b[0m\u001b[37m\u001b[0m \u001b[1m0s\u001b[0m 2ms/step - loss: 0.3159 - precision: 0.8769 - val_loss: 0.3080 - val_precision: 0.8764\n",
            "Epoch 32/100\n",
            "\u001b[1m51/51\u001b[0m \u001b[32m━━━━━━━━━━━━━━━━━━━━\u001b[0m\u001b[37m\u001b[0m \u001b[1m0s\u001b[0m 2ms/step - loss: 0.3145 - precision: 0.8593 - val_loss: 0.3068 - val_precision: 0.8844\n",
            "Epoch 33/100\n",
            "\u001b[1m51/51\u001b[0m \u001b[32m━━━━━━━━━━━━━━━━━━━━\u001b[0m\u001b[37m\u001b[0m \u001b[1m0s\u001b[0m 2ms/step - loss: 0.3178 - precision: 0.8470 - val_loss: 0.3045 - val_precision: 0.8659\n",
            "Epoch 34/100\n",
            "\u001b[1m51/51\u001b[0m \u001b[32m━━━━━━━━━━━━━━━━━━━━\u001b[0m\u001b[37m\u001b[0m \u001b[1m0s\u001b[0m 2ms/step - loss: 0.3142 - precision: 0.8610 - val_loss: 0.3046 - val_precision: 0.8743\n",
            "Epoch 35/100\n",
            "\u001b[1m51/51\u001b[0m \u001b[32m━━━━━━━━━━━━━━━━━━━━\u001b[0m\u001b[37m\u001b[0m \u001b[1m0s\u001b[0m 2ms/step - loss: 0.3006 - precision: 0.8744 - val_loss: 0.3024 - val_precision: 0.8889\n",
            "Epoch 36/100\n",
            "\u001b[1m51/51\u001b[0m \u001b[32m━━━━━━━━━━━━━━━━━━━━\u001b[0m\u001b[37m\u001b[0m \u001b[1m0s\u001b[0m 2ms/step - loss: 0.3075 - precision: 0.8803 - val_loss: 0.3019 - val_precision: 0.9012\n",
            "Epoch 37/100\n",
            "\u001b[1m51/51\u001b[0m \u001b[32m━━━━━━━━━━━━━━━━━━━━\u001b[0m\u001b[37m\u001b[0m \u001b[1m0s\u001b[0m 2ms/step - loss: 0.3053 - precision: 0.8620 - val_loss: 0.2976 - val_precision: 0.8914\n",
            "Epoch 38/100\n",
            "\u001b[1m51/51\u001b[0m \u001b[32m━━━━━━━━━━━━━━━━━━━━\u001b[0m\u001b[37m\u001b[0m \u001b[1m0s\u001b[0m 2ms/step - loss: 0.3178 - precision: 0.8607 - val_loss: 0.2966 - val_precision: 0.8864\n",
            "Epoch 39/100\n",
            "\u001b[1m51/51\u001b[0m \u001b[32m━━━━━━━━━━━━━━━━━━━━\u001b[0m\u001b[37m\u001b[0m \u001b[1m0s\u001b[0m 2ms/step - loss: 0.3095 - precision: 0.8439 - val_loss: 0.2950 - val_precision: 0.8833\n",
            "Epoch 40/100\n",
            "\u001b[1m51/51\u001b[0m \u001b[32m━━━━━━━━━━━━━━━━━━━━\u001b[0m\u001b[37m\u001b[0m \u001b[1m0s\u001b[0m 2ms/step - loss: 0.3132 - precision: 0.8603 - val_loss: 0.2957 - val_precision: 0.8960\n",
            "Epoch 41/100\n",
            "\u001b[1m51/51\u001b[0m \u001b[32m━━━━━━━━━━━━━━━━━━━━\u001b[0m\u001b[37m\u001b[0m \u001b[1m0s\u001b[0m 2ms/step - loss: 0.2970 - precision: 0.9000 - val_loss: 0.2957 - val_precision: 0.9152\n",
            "Epoch 42/100\n",
            "\u001b[1m51/51\u001b[0m \u001b[32m━━━━━━━━━━━━━━━━━━━━\u001b[0m\u001b[37m\u001b[0m \u001b[1m0s\u001b[0m 2ms/step - loss: 0.3262 - precision: 0.8716 - val_loss: 0.2896 - val_precision: 0.8927\n",
            "Epoch 43/100\n",
            "\u001b[1m51/51\u001b[0m \u001b[32m━━━━━━━━━━━━━━━━━━━━\u001b[0m\u001b[37m\u001b[0m \u001b[1m0s\u001b[0m 2ms/step - loss: 0.3134 - precision: 0.8556 - val_loss: 0.2885 - val_precision: 0.8933\n",
            "Epoch 44/100\n",
            "\u001b[1m51/51\u001b[0m \u001b[32m━━━━━━━━━━━━━━━━━━━━\u001b[0m\u001b[37m\u001b[0m \u001b[1m0s\u001b[0m 2ms/step - loss: 0.3151 - precision: 0.8651 - val_loss: 0.2899 - val_precision: 0.9029\n",
            "Epoch 45/100\n",
            "\u001b[1m51/51\u001b[0m \u001b[32m━━━━━━━━━━━━━━━━━━━━\u001b[0m\u001b[37m\u001b[0m \u001b[1m0s\u001b[0m 2ms/step - loss: 0.3179 - precision: 0.8639 - val_loss: 0.2877 - val_precision: 0.9167\n",
            "Epoch 46/100\n",
            "\u001b[1m51/51\u001b[0m \u001b[32m━━━━━━━━━━━━━━━━━━━━\u001b[0m\u001b[37m\u001b[0m \u001b[1m0s\u001b[0m 2ms/step - loss: 0.2928 - precision: 0.8800 - val_loss: 0.2855 - val_precision: 0.9034\n",
            "Epoch 47/100\n",
            "\u001b[1m51/51\u001b[0m \u001b[32m━━━━━━━━━━━━━━━━━━━━\u001b[0m\u001b[37m\u001b[0m \u001b[1m0s\u001b[0m 2ms/step - loss: 0.2914 - precision: 0.8871 - val_loss: 0.2863 - val_precision: 0.9162\n",
            "Epoch 48/100\n",
            "\u001b[1m51/51\u001b[0m \u001b[32m━━━━━━━━━━━━━━━━━━━━\u001b[0m\u001b[37m\u001b[0m \u001b[1m0s\u001b[0m 2ms/step - loss: 0.3129 - precision: 0.8889 - val_loss: 0.2827 - val_precision: 0.9148\n",
            "Epoch 49/100\n",
            "\u001b[1m51/51\u001b[0m \u001b[32m━━━━━━━━━━━━━━━━━━━━\u001b[0m\u001b[37m\u001b[0m \u001b[1m0s\u001b[0m 2ms/step - loss: 0.2506 - precision: 0.8983 - val_loss: 0.2792 - val_precision: 0.9000\n",
            "Epoch 50/100\n",
            "\u001b[1m51/51\u001b[0m \u001b[32m━━━━━━━━━━━━━━━━━━━━\u001b[0m\u001b[37m\u001b[0m \u001b[1m0s\u001b[0m 2ms/step - loss: 0.2813 - precision: 0.8924 - val_loss: 0.2822 - val_precision: 0.9341\n",
            "Epoch 51/100\n",
            "\u001b[1m51/51\u001b[0m \u001b[32m━━━━━━━━━━━━━━━━━━━━\u001b[0m\u001b[37m\u001b[0m \u001b[1m0s\u001b[0m 2ms/step - loss: 0.3103 - precision: 0.9001 - val_loss: 0.2788 - val_precision: 0.9200\n",
            "Epoch 52/100\n",
            "\u001b[1m51/51\u001b[0m \u001b[32m━━━━━━━━━━━━━━━━━━━━\u001b[0m\u001b[37m\u001b[0m \u001b[1m0s\u001b[0m 2ms/step - loss: 0.3022 - precision: 0.8689 - val_loss: 0.2775 - val_precision: 0.9209\n",
            "Epoch 53/100\n",
            "\u001b[1m51/51\u001b[0m \u001b[32m━━━━━━━━━━━━━━━━━━━━\u001b[0m\u001b[37m\u001b[0m \u001b[1m0s\u001b[0m 2ms/step - loss: 0.2488 - precision: 0.9078 - val_loss: 0.2753 - val_precision: 0.9011\n",
            "Epoch 54/100\n",
            "\u001b[1m51/51\u001b[0m \u001b[32m━━━━━━━━━━━━━━━━━━━━\u001b[0m\u001b[37m\u001b[0m \u001b[1m0s\u001b[0m 2ms/step - loss: 0.2850 - precision: 0.8740 - val_loss: 0.2755 - val_precision: 0.9066\n",
            "Epoch 55/100\n",
            "\u001b[1m51/51\u001b[0m \u001b[32m━━━━━━━━━━━━━━━━━━━━\u001b[0m\u001b[37m\u001b[0m \u001b[1m0s\u001b[0m 2ms/step - loss: 0.2924 - precision: 0.8818 - val_loss: 0.2782 - val_precision: 0.9244\n",
            "Epoch 56/100\n",
            "\u001b[1m51/51\u001b[0m \u001b[32m━━━━━━━━━━━━━━━━━━━━\u001b[0m\u001b[37m\u001b[0m \u001b[1m0s\u001b[0m 2ms/step - loss: 0.2930 - precision: 0.8937 - val_loss: 0.2757 - val_precision: 0.9162\n",
            "Epoch 57/100\n",
            "\u001b[1m51/51\u001b[0m \u001b[32m━━━━━━━━━━━━━━━━━━━━\u001b[0m\u001b[37m\u001b[0m \u001b[1m0s\u001b[0m 3ms/step - loss: 0.2791 - precision: 0.8740 - val_loss: 0.2744 - val_precision: 0.9106\n",
            "Epoch 58/100\n",
            "\u001b[1m51/51\u001b[0m \u001b[32m━━━━━━━━━━━━━━━━━━━━\u001b[0m\u001b[37m\u001b[0m \u001b[1m0s\u001b[0m 2ms/step - loss: 0.2934 - precision: 0.8921 - val_loss: 0.2785 - val_precision: 0.9464\n",
            "Epoch 59/100\n",
            "\u001b[1m51/51\u001b[0m \u001b[32m━━━━━━━━━━━━━━━━━━━━\u001b[0m\u001b[37m\u001b[0m \u001b[1m0s\u001b[0m 2ms/step - loss: 0.2855 - precision: 0.8962 - val_loss: 0.2722 - val_precision: 0.9261\n",
            "Epoch 60/100\n",
            "\u001b[1m51/51\u001b[0m \u001b[32m━━━━━━━━━━━━━━━━━━━━\u001b[0m\u001b[37m\u001b[0m \u001b[1m0s\u001b[0m 2ms/step - loss: 0.2995 - precision: 0.8707 - val_loss: 0.2717 - val_precision: 0.9310\n",
            "Epoch 61/100\n",
            "\u001b[1m51/51\u001b[0m \u001b[32m━━━━━━━━━━━━━━━━━━━━\u001b[0m\u001b[37m\u001b[0m \u001b[1m0s\u001b[0m 2ms/step - loss: 0.2524 - precision: 0.8970 - val_loss: 0.2731 - val_precision: 0.9257\n",
            "Epoch 62/100\n",
            "\u001b[1m51/51\u001b[0m \u001b[32m━━━━━━━━━━━━━━━━━━━━\u001b[0m\u001b[37m\u001b[0m \u001b[1m0s\u001b[0m 2ms/step - loss: 0.2664 - precision: 0.9104 - val_loss: 0.2742 - val_precision: 0.9306\n",
            "Epoch 63/100\n",
            "\u001b[1m51/51\u001b[0m \u001b[32m━━━━━━━━━━━━━━━━━━━━\u001b[0m\u001b[37m\u001b[0m \u001b[1m0s\u001b[0m 2ms/step - loss: 0.2497 - precision: 0.8963 - val_loss: 0.2718 - val_precision: 0.9310\n",
            "Epoch 64/100\n",
            "\u001b[1m51/51\u001b[0m \u001b[32m━━━━━━━━━━━━━━━━━━━━\u001b[0m\u001b[37m\u001b[0m \u001b[1m0s\u001b[0m 2ms/step - loss: 0.2676 - precision: 0.9055 - val_loss: 0.2702 - val_precision: 0.9306\n",
            "Epoch 65/100\n",
            "\u001b[1m51/51\u001b[0m \u001b[32m━━━━━━━━━━━━━━━━━━━━\u001b[0m\u001b[37m\u001b[0m \u001b[1m0s\u001b[0m 2ms/step - loss: 0.2894 - precision: 0.8962 - val_loss: 0.2727 - val_precision: 0.9357\n",
            "Epoch 66/100\n",
            "\u001b[1m51/51\u001b[0m \u001b[32m━━━━━━━━━━━━━━━━━━━━\u001b[0m\u001b[37m\u001b[0m \u001b[1m0s\u001b[0m 2ms/step - loss: 0.2797 - precision: 0.9064 - val_loss: 0.2763 - val_precision: 0.9458\n",
            "Epoch 67/100\n",
            "\u001b[1m51/51\u001b[0m \u001b[32m━━━━━━━━━━━━━━━━━━━━\u001b[0m\u001b[37m\u001b[0m \u001b[1m0s\u001b[0m 2ms/step - loss: 0.2656 - precision: 0.9021 - val_loss: 0.2697 - val_precision: 0.9266\n",
            "Epoch 68/100\n",
            "\u001b[1m51/51\u001b[0m \u001b[32m━━━━━━━━━━━━━━━━━━━━\u001b[0m\u001b[37m\u001b[0m \u001b[1m0s\u001b[0m 2ms/step - loss: 0.2433 - precision: 0.9008 - val_loss: 0.2694 - val_precision: 0.9379\n",
            "Epoch 69/100\n",
            "\u001b[1m51/51\u001b[0m \u001b[32m━━━━━━━━━━━━━━━━━━━━\u001b[0m\u001b[37m\u001b[0m \u001b[1m0s\u001b[0m 2ms/step - loss: 0.2521 - precision: 0.9022 - val_loss: 0.2677 - val_precision: 0.9176\n",
            "Epoch 70/100\n",
            "\u001b[1m51/51\u001b[0m \u001b[32m━━━━━━━━━━━━━━━━━━━━\u001b[0m\u001b[37m\u001b[0m \u001b[1m0s\u001b[0m 2ms/step - loss: 0.2429 - precision: 0.9318 - val_loss: 0.2689 - val_precision: 0.9326\n",
            "Epoch 71/100\n",
            "\u001b[1m51/51\u001b[0m \u001b[32m━━━━━━━━━━━━━━━━━━━━\u001b[0m\u001b[37m\u001b[0m \u001b[1m0s\u001b[0m 2ms/step - loss: 0.2680 - precision: 0.8789 - val_loss: 0.2667 - val_precision: 0.9326\n",
            "Epoch 72/100\n",
            "\u001b[1m51/51\u001b[0m \u001b[32m━━━━━━━━━━━━━━━━━━━━\u001b[0m\u001b[37m\u001b[0m \u001b[1m0s\u001b[0m 2ms/step - loss: 0.2682 - precision: 0.8917 - val_loss: 0.2645 - val_precision: 0.9274\n",
            "Epoch 73/100\n",
            "\u001b[1m51/51\u001b[0m \u001b[32m━━━━━━━━━━━━━━━━━━━━\u001b[0m\u001b[37m\u001b[0m \u001b[1m0s\u001b[0m 2ms/step - loss: 0.2707 - precision: 0.9042 - val_loss: 0.2661 - val_precision: 0.9314\n",
            "Epoch 74/100\n",
            "\u001b[1m51/51\u001b[0m \u001b[32m━━━━━━━━━━━━━━━━━━━━\u001b[0m\u001b[37m\u001b[0m \u001b[1m0s\u001b[0m 2ms/step - loss: 0.2491 - precision: 0.9058 - val_loss: 0.2658 - val_precision: 0.9375\n",
            "Epoch 75/100\n",
            "\u001b[1m51/51\u001b[0m \u001b[32m━━━━━━━━━━━━━━━━━━━━\u001b[0m\u001b[37m\u001b[0m \u001b[1m0s\u001b[0m 2ms/step - loss: 0.2577 - precision: 0.9137 - val_loss: 0.2687 - val_precision: 0.9419\n",
            "Epoch 76/100\n",
            "\u001b[1m51/51\u001b[0m \u001b[32m━━━━━━━━━━━━━━━━━━━━\u001b[0m\u001b[37m\u001b[0m \u001b[1m0s\u001b[0m 2ms/step - loss: 0.2604 - precision: 0.8979 - val_loss: 0.2673 - val_precision: 0.9432\n",
            "Epoch 77/100\n",
            "\u001b[1m51/51\u001b[0m \u001b[32m━━━━━━━━━━━━━━━━━━━━\u001b[0m\u001b[37m\u001b[0m \u001b[1m0s\u001b[0m 2ms/step - loss: 0.2390 - precision: 0.8895 - val_loss: 0.2642 - val_precision: 0.9389\n",
            "Epoch 78/100\n",
            "\u001b[1m51/51\u001b[0m \u001b[32m━━━━━━━━━━━━━━━━━━━━\u001b[0m\u001b[37m\u001b[0m \u001b[1m0s\u001b[0m 2ms/step - loss: 0.2801 - precision: 0.8663 - val_loss: 0.2654 - val_precision: 0.9222\n",
            "Epoch 79/100\n",
            "\u001b[1m51/51\u001b[0m \u001b[32m━━━━━━━━━━━━━━━━━━━━\u001b[0m\u001b[37m\u001b[0m \u001b[1m0s\u001b[0m 2ms/step - loss: 0.2871 - precision: 0.8638 - val_loss: 0.2660 - val_precision: 0.9371\n",
            "Epoch 80/100\n",
            "\u001b[1m51/51\u001b[0m \u001b[32m━━━━━━━━━━━━━━━━━━━━\u001b[0m\u001b[37m\u001b[0m \u001b[1m0s\u001b[0m 2ms/step - loss: 0.2558 - precision: 0.9147 - val_loss: 0.2624 - val_precision: 0.9379\n",
            "Epoch 81/100\n",
            "\u001b[1m51/51\u001b[0m \u001b[32m━━━━━━━━━━━━━━━━━━━━\u001b[0m\u001b[37m\u001b[0m \u001b[1m0s\u001b[0m 2ms/step - loss: 0.3008 - precision: 0.8808 - val_loss: 0.2632 - val_precision: 0.9270\n",
            "Epoch 82/100\n",
            "\u001b[1m51/51\u001b[0m \u001b[32m━━━━━━━━━━━━━━━━━━━━\u001b[0m\u001b[37m\u001b[0m \u001b[1m0s\u001b[0m 2ms/step - loss: 0.2728 - precision: 0.9084 - val_loss: 0.2652 - val_precision: 0.9425\n",
            "Epoch 83/100\n",
            "\u001b[1m51/51\u001b[0m \u001b[32m━━━━━━━━━━━━━━━━━━━━\u001b[0m\u001b[37m\u001b[0m \u001b[1m0s\u001b[0m 2ms/step - loss: 0.2762 - precision: 0.9050 - val_loss: 0.2663 - val_precision: 0.9322\n",
            "Epoch 84/100\n",
            "\u001b[1m51/51\u001b[0m \u001b[32m━━━━━━━━━━━━━━━━━━━━\u001b[0m\u001b[37m\u001b[0m \u001b[1m0s\u001b[0m 2ms/step - loss: 0.3071 - precision: 0.8869 - val_loss: 0.2680 - val_precision: 0.9322\n",
            "Epoch 85/100\n",
            "\u001b[1m51/51\u001b[0m \u001b[32m━━━━━━━━━━━━━━━━━━━━\u001b[0m\u001b[37m\u001b[0m \u001b[1m0s\u001b[0m 2ms/step - loss: 0.2605 - precision: 0.8985 - val_loss: 0.2630 - val_precision: 0.9333\n",
            "Epoch 86/100\n",
            "\u001b[1m51/51\u001b[0m \u001b[32m━━━━━━━━━━━━━━━━━━━━\u001b[0m\u001b[37m\u001b[0m \u001b[1m0s\u001b[0m 2ms/step - loss: 0.2438 - precision: 0.8975 - val_loss: 0.2629 - val_precision: 0.9326\n",
            "Epoch 87/100\n",
            "\u001b[1m51/51\u001b[0m \u001b[32m━━━━━━━━━━━━━━━━━━━━\u001b[0m\u001b[37m\u001b[0m \u001b[1m0s\u001b[0m 2ms/step - loss: 0.2656 - precision: 0.9020 - val_loss: 0.2638 - val_precision: 0.9375\n",
            "Epoch 88/100\n",
            "\u001b[1m51/51\u001b[0m \u001b[32m━━━━━━━━━━━━━━━━━━━━\u001b[0m\u001b[37m\u001b[0m \u001b[1m0s\u001b[0m 2ms/step - loss: 0.2268 - precision: 0.9358 - val_loss: 0.2623 - val_precision: 0.9382\n",
            "Epoch 89/100\n",
            "\u001b[1m51/51\u001b[0m \u001b[32m━━━━━━━━━━━━━━━━━━━━\u001b[0m\u001b[37m\u001b[0m \u001b[1m0s\u001b[0m 2ms/step - loss: 0.2578 - precision: 0.9191 - val_loss: 0.2608 - val_precision: 0.9385\n",
            "Epoch 90/100\n",
            "\u001b[1m51/51\u001b[0m \u001b[32m━━━━━━━━━━━━━━━━━━━━\u001b[0m\u001b[37m\u001b[0m \u001b[1m0s\u001b[0m 2ms/step - loss: 0.2504 - precision: 0.8969 - val_loss: 0.2641 - val_precision: 0.9425\n",
            "Epoch 91/100\n",
            "\u001b[1m51/51\u001b[0m \u001b[32m━━━━━━━━━━━━━━━━━━━━\u001b[0m\u001b[37m\u001b[0m \u001b[1m0s\u001b[0m 2ms/step - loss: 0.2341 - precision: 0.9194 - val_loss: 0.2629 - val_precision: 0.9379\n",
            "Epoch 92/100\n",
            "\u001b[1m51/51\u001b[0m \u001b[32m━━━━━━━━━━━━━━━━━━━━\u001b[0m\u001b[37m\u001b[0m \u001b[1m0s\u001b[0m 2ms/step - loss: 0.2381 - precision: 0.9000 - val_loss: 0.2651 - val_precision: 0.9375\n",
            "Epoch 93/100\n",
            "\u001b[1m51/51\u001b[0m \u001b[32m━━━━━━━━━━━━━━━━━━━━\u001b[0m\u001b[37m\u001b[0m \u001b[1m0s\u001b[0m 2ms/step - loss: 0.2523 - precision: 0.9149 - val_loss: 0.2622 - val_precision: 0.9385\n",
            "Epoch 94/100\n",
            "\u001b[1m51/51\u001b[0m \u001b[32m━━━━━━━━━━━━━━━━━━━━\u001b[0m\u001b[37m\u001b[0m \u001b[1m0s\u001b[0m 2ms/step - loss: 0.2568 - precision: 0.8980 - val_loss: 0.2631 - val_precision: 0.9368\n",
            "Epoch 95/100\n",
            "\u001b[1m51/51\u001b[0m \u001b[32m━━━━━━━━━━━━━━━━━━━━\u001b[0m\u001b[37m\u001b[0m \u001b[1m0s\u001b[0m 2ms/step - loss: 0.2767 - precision: 0.8918 - val_loss: 0.2615 - val_precision: 0.9375\n",
            "Epoch 96/100\n",
            "\u001b[1m51/51\u001b[0m \u001b[32m━━━━━━━━━━━━━━━━━━━━\u001b[0m\u001b[37m\u001b[0m \u001b[1m0s\u001b[0m 2ms/step - loss: 0.2303 - precision: 0.9190 - val_loss: 0.2649 - val_precision: 0.9368\n",
            "Epoch 97/100\n",
            "\u001b[1m51/51\u001b[0m \u001b[32m━━━━━━━━━━━━━━━━━━━━\u001b[0m\u001b[37m\u001b[0m \u001b[1m0s\u001b[0m 2ms/step - loss: 0.2454 - precision: 0.9167 - val_loss: 0.2608 - val_precision: 0.9333\n",
            "Epoch 98/100\n",
            "\u001b[1m51/51\u001b[0m \u001b[32m━━━━━━━━━━━━━━━━━━━━\u001b[0m\u001b[37m\u001b[0m \u001b[1m0s\u001b[0m 2ms/step - loss: 0.2376 - precision: 0.8898 - val_loss: 0.2579 - val_precision: 0.9382\n",
            "Epoch 99/100\n",
            "\u001b[1m51/51\u001b[0m \u001b[32m━━━━━━━━━━━━━━━━━━━━\u001b[0m\u001b[37m\u001b[0m \u001b[1m0s\u001b[0m 2ms/step - loss: 0.2365 - precision: 0.8847 - val_loss: 0.2588 - val_precision: 0.9382\n",
            "Epoch 100/100\n",
            "\u001b[1m51/51\u001b[0m \u001b[32m━━━━━━━━━━━━━━━━━━━━\u001b[0m\u001b[37m\u001b[0m \u001b[1m0s\u001b[0m 2ms/step - loss: 0.2370 - precision: 0.9086 - val_loss: 0.2625 - val_precision: 0.9379\n"
          ]
        }
      ],
      "source": [
        "# Definindo o modelo sequencial\n",
        "model = Sequential()\n",
        "\n",
        "# Adicionando a camada de entrada (input layer) e a primeira camada oculta (hidden layer)\n",
        "model.add(Dense(64, activation='relu', input_shape=(X_train.shape[1],)))\n",
        "\n",
        "# Adicionando dropout para prevenir overfitting\n",
        "model.add(Dropout(0.5))\n",
        "\n",
        "# Adicionando mais uma camada oculta\n",
        "model.add(Dense(32, activation='relu'))\n",
        "\n",
        "# Mais uma camada de Dropout\n",
        "model.add(Dropout(0.5))\n",
        "\n",
        "# Camada de saída (output layer) para classificação binária (uso de 'sigmoid' para probabilidade)\n",
        "model.add(Dense(1, activation='sigmoid'))\n",
        "\n",
        "# Compilando o modelo com a função de perda e o otimizador\n",
        "model.compile(optimizer='adam', loss='binary_crossentropy', metrics=['precision'])\n",
        "\n",
        "# Definindo uma callback para parar o treinamento cedo se o modelo parar de melhorar (opcional)\n",
        "early_stopping = EarlyStopping(monitor='val_loss', patience=10, restore_best_weights=True)\n",
        "\n",
        "# Treinando o modelo com os dados de treino\n",
        "history = model.fit(X_train_scaled, y_train, validation_data=(X_test_scaled, y_test),\n",
        "                    epochs=100, batch_size=32, callbacks=[early_stopping])"
      ]
    },
    {
      "cell_type": "code",
      "execution_count": 76,
      "id": "rdouffbcuNj5",
      "metadata": {
        "id": "rdouffbcuNj5"
      },
      "outputs": [
        {
          "name": "stdout",
          "output_type": "stream",
          "text": [
            "\u001b[1m17/17\u001b[0m \u001b[32m━━━━━━━━━━━━━━━━━━━━\u001b[0m\u001b[37m\u001b[0m \u001b[1m0s\u001b[0m 1ms/step - loss: 0.2322 - precision: 0.9287 \n",
            "Test Precision: 0.9382\n",
            "\u001b[1m17/17\u001b[0m \u001b[32m━━━━━━━━━━━━━━━━━━━━\u001b[0m\u001b[37m\u001b[0m \u001b[1m0s\u001b[0m 3ms/step\n",
            "              precision    recall  f1-score   support\n",
            "\n",
            "           0       0.92      0.97      0.94       342\n",
            "           1       0.94      0.85      0.89       196\n",
            "\n",
            "    accuracy                           0.93       538\n",
            "   macro avg       0.93      0.91      0.92       538\n",
            "weighted avg       0.93      0.93      0.92       538\n",
            "\n"
          ]
        }
      ],
      "source": [
        "# Avaliando o modelo com os dados de teste\n",
        "loss, precision = model.evaluate(X_test_scaled, y_test)\n",
        "print(f'Test Precision: {precision:.4f}')\n",
        "\n",
        "# Previsão com os dados de teste\n",
        "y_pred = (model.predict(X_test_scaled) > 0.5).astype(int)\n",
        "\n",
        "# Relatório de classificação\n",
        "from sklearn.metrics import classification_report\n",
        "print(classification_report(y_test, y_pred))"
      ]
    }
  ],
  "metadata": {
    "colab": {
      "provenance": []
    },
    "kaggle": {
      "accelerator": "none",
      "dataSources": [
        {
          "datasetId": 5194699,
          "sourceId": 8668279,
          "sourceType": "datasetVersion"
        }
      ],
      "dockerImageVersionId": 30746,
      "isGpuEnabled": false,
      "isInternetEnabled": true,
      "language": "python",
      "sourceType": "notebook"
    },
    "kernelspec": {
      "display_name": "Python 3",
      "language": "python",
      "name": "python3"
    },
    "language_info": {
      "codemirror_mode": {
        "name": "ipython",
        "version": 3
      },
      "file_extension": ".py",
      "mimetype": "text/x-python",
      "name": "python",
      "nbconvert_exporter": "python",
      "pygments_lexer": "ipython3",
      "version": "3.12.5"
    },
    "papermill": {
      "default_parameters": {},
      "duration": 142.216274,
      "end_time": "2024-08-15T19:27:37.407061",
      "environment_variables": {},
      "exception": null,
      "input_path": "__notebook__.ipynb",
      "output_path": "__notebook__.ipynb",
      "parameters": {},
      "start_time": "2024-08-15T19:25:15.190787",
      "version": "2.5.0"
    }
  },
  "nbformat": 4,
  "nbformat_minor": 5
}
